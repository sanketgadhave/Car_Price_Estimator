{
 "cells": [
  {
   "cell_type": "markdown",
   "id": "6cc476f1",
   "metadata": {},
   "source": [
    "# Car Price Prediction: Data Preprocessing / EDA\n",
    "## Project Members: \n",
    "### 1.    Abhishek Manish Bedarkar | 50495186 | abedarka\n",
    "### 2.    Sanket Milind Gadhave | 50495154 | sgadhave\n",
    "### 3.    Milind Rajendra Kulkarni | 50495311 | milindra"
   ]
  },
  {
   "cell_type": "code",
   "execution_count": 10,
   "id": "996fec85",
   "metadata": {
    "ExecuteTime": {
     "end_time": "2023-12-08T18:35:44.911422800Z",
     "start_time": "2023-12-08T18:35:44.757854200Z"
    }
   },
   "outputs": [],
   "source": [
    "# import all required libraries \n",
    "import numpy as np \n",
    "import pandas as pd\n",
    "import seaborn as sns\n",
    "import matplotlib.pyplot as plt\n",
    "from sklearn.preprocessing import MinMaxScaler\n",
    "from sklearn.model_selection import train_test_split\n",
    "from sklearn.preprocessing import StandardScaler, OneHotEncoder\n",
    "from sklearn.pipeline import Pipeline\n",
    "from sklearn.linear_model import LinearRegression\n",
    "from sklearn.compose import ColumnTransformer\n",
    "from sklearn.metrics import mean_absolute_error, mean_squared_error\n",
    "from sklearn.ensemble import RandomForestRegressor\n",
    "from sklearn.tree import DecisionTreeRegressor\n",
    "from sklearn.model_selection import cross_val_score\n",
    "from sklearn.model_selection import GridSearchCV\n",
    "from sklearn.ensemble import AdaBoostRegressor\n",
    "from sklearn.metrics import r2_score\n",
    "from scipy import stats\n",
    "import xgboost as xgb\n",
    "from sklearn.neighbors import KNeighborsRegressor\n",
    "from pandas.plotting import scatter_matrix\n",
    "from joblib import dump"
   ]
  },
  {
   "cell_type": "code",
   "execution_count": 11,
   "id": "38cbc20a",
   "metadata": {
    "scrolled": true,
    "ExecuteTime": {
     "end_time": "2023-12-08T18:35:45.115915400Z",
     "start_time": "2023-12-08T18:35:44.761367200Z"
    }
   },
   "outputs": [
    {
     "data": {
      "text/plain": "                           0           1                 2           3  \\\nID                  45654403    44731507          45774419    45769185   \nPrice                  13328       16621              8467        3607   \nLevy                    1399        1018                 -         862   \nManufacturer           LEXUS   CHEVROLET             HONDA        FORD   \nModel                 RX 450     Equinox               FIT      Escape   \nProd. year              2010        2011              2006        2011   \nCategory                Jeep        Jeep         Hatchback        Jeep   \nLeather interior         Yes          No                No         Yes   \nFuel type             Hybrid      Petrol            Petrol      Hybrid   \nEngine volume            3.5           3               1.3         2.5   \nMileage            186005 km   192000 km         200000 km   168966 km   \nCylinders                6.0         6.0               4.0         4.0   \nGear box type      Automatic   Tiptronic          Variator   Automatic   \nDrive wheels             4x4         4x4             Front         4x4   \nDoors                 04-May      04-May            04-May      04-May   \nWheel             Left wheel  Left wheel  Right-hand drive  Left wheel   \nColor                 Silver       Black             Black       White   \nAirbags                   12           8                 2           0   \n\n                           4           5           6           7           8  \\\nID                  45809263    45802912    45656768    45816158    45641395   \nPrice                  11726       39493        1803         549        1098   \nLevy                     446         891         761         751         394   \nManufacturer           HONDA     HYUNDAI      TOYOTA     HYUNDAI      TOYOTA   \nModel                    FIT    Santa FE       Prius      Sonata       Camry   \nProd. year              2014        2016        2010        2013        2014   \nCategory           Hatchback        Jeep   Hatchback       Sedan       Sedan   \nLeather interior         Yes         Yes         Yes         Yes         Yes   \nFuel type             Petrol      Diesel      Hybrid      Petrol      Hybrid   \nEngine volume            1.3           2         1.8         2.4         2.5   \nMileage             91901 km   160931 km   258909 km   216118 km   398069 km   \nCylinders                4.0         4.0         4.0         4.0         4.0   \nGear box type      Automatic   Automatic   Automatic   Automatic   Automatic   \nDrive wheels           Front       Front       Front       Front       Front   \nDoors                 04-May      04-May      04-May      04-May      04-May   \nWheel             Left wheel  Left wheel  Left wheel  Left wheel  Left wheel   \nColor                 Silver       White       White        Grey       Black   \nAirbags                    4           4          12          12          12   \n\n                           9  \nID                  45756839  \nPrice                  26657  \nLevy                       -  \nManufacturer           LEXUS  \nModel                 RX 350  \nProd. year              2007  \nCategory                Jeep  \nLeather interior         Yes  \nFuel type             Petrol  \nEngine volume            3.5  \nMileage            128500 km  \nCylinders                6.0  \nGear box type      Automatic  \nDrive wheels             4x4  \nDoors                 04-May  \nWheel             Left wheel  \nColor                 Silver  \nAirbags                   12  ",
      "text/html": "<div>\n<style scoped>\n    .dataframe tbody tr th:only-of-type {\n        vertical-align: middle;\n    }\n\n    .dataframe tbody tr th {\n        vertical-align: top;\n    }\n\n    .dataframe thead th {\n        text-align: right;\n    }\n</style>\n<table border=\"1\" class=\"dataframe\">\n  <thead>\n    <tr style=\"text-align: right;\">\n      <th></th>\n      <th>0</th>\n      <th>1</th>\n      <th>2</th>\n      <th>3</th>\n      <th>4</th>\n      <th>5</th>\n      <th>6</th>\n      <th>7</th>\n      <th>8</th>\n      <th>9</th>\n    </tr>\n  </thead>\n  <tbody>\n    <tr>\n      <th>ID</th>\n      <td>45654403</td>\n      <td>44731507</td>\n      <td>45774419</td>\n      <td>45769185</td>\n      <td>45809263</td>\n      <td>45802912</td>\n      <td>45656768</td>\n      <td>45816158</td>\n      <td>45641395</td>\n      <td>45756839</td>\n    </tr>\n    <tr>\n      <th>Price</th>\n      <td>13328</td>\n      <td>16621</td>\n      <td>8467</td>\n      <td>3607</td>\n      <td>11726</td>\n      <td>39493</td>\n      <td>1803</td>\n      <td>549</td>\n      <td>1098</td>\n      <td>26657</td>\n    </tr>\n    <tr>\n      <th>Levy</th>\n      <td>1399</td>\n      <td>1018</td>\n      <td>-</td>\n      <td>862</td>\n      <td>446</td>\n      <td>891</td>\n      <td>761</td>\n      <td>751</td>\n      <td>394</td>\n      <td>-</td>\n    </tr>\n    <tr>\n      <th>Manufacturer</th>\n      <td>LEXUS</td>\n      <td>CHEVROLET</td>\n      <td>HONDA</td>\n      <td>FORD</td>\n      <td>HONDA</td>\n      <td>HYUNDAI</td>\n      <td>TOYOTA</td>\n      <td>HYUNDAI</td>\n      <td>TOYOTA</td>\n      <td>LEXUS</td>\n    </tr>\n    <tr>\n      <th>Model</th>\n      <td>RX 450</td>\n      <td>Equinox</td>\n      <td>FIT</td>\n      <td>Escape</td>\n      <td>FIT</td>\n      <td>Santa FE</td>\n      <td>Prius</td>\n      <td>Sonata</td>\n      <td>Camry</td>\n      <td>RX 350</td>\n    </tr>\n    <tr>\n      <th>Prod. year</th>\n      <td>2010</td>\n      <td>2011</td>\n      <td>2006</td>\n      <td>2011</td>\n      <td>2014</td>\n      <td>2016</td>\n      <td>2010</td>\n      <td>2013</td>\n      <td>2014</td>\n      <td>2007</td>\n    </tr>\n    <tr>\n      <th>Category</th>\n      <td>Jeep</td>\n      <td>Jeep</td>\n      <td>Hatchback</td>\n      <td>Jeep</td>\n      <td>Hatchback</td>\n      <td>Jeep</td>\n      <td>Hatchback</td>\n      <td>Sedan</td>\n      <td>Sedan</td>\n      <td>Jeep</td>\n    </tr>\n    <tr>\n      <th>Leather interior</th>\n      <td>Yes</td>\n      <td>No</td>\n      <td>No</td>\n      <td>Yes</td>\n      <td>Yes</td>\n      <td>Yes</td>\n      <td>Yes</td>\n      <td>Yes</td>\n      <td>Yes</td>\n      <td>Yes</td>\n    </tr>\n    <tr>\n      <th>Fuel type</th>\n      <td>Hybrid</td>\n      <td>Petrol</td>\n      <td>Petrol</td>\n      <td>Hybrid</td>\n      <td>Petrol</td>\n      <td>Diesel</td>\n      <td>Hybrid</td>\n      <td>Petrol</td>\n      <td>Hybrid</td>\n      <td>Petrol</td>\n    </tr>\n    <tr>\n      <th>Engine volume</th>\n      <td>3.5</td>\n      <td>3</td>\n      <td>1.3</td>\n      <td>2.5</td>\n      <td>1.3</td>\n      <td>2</td>\n      <td>1.8</td>\n      <td>2.4</td>\n      <td>2.5</td>\n      <td>3.5</td>\n    </tr>\n    <tr>\n      <th>Mileage</th>\n      <td>186005 km</td>\n      <td>192000 km</td>\n      <td>200000 km</td>\n      <td>168966 km</td>\n      <td>91901 km</td>\n      <td>160931 km</td>\n      <td>258909 km</td>\n      <td>216118 km</td>\n      <td>398069 km</td>\n      <td>128500 km</td>\n    </tr>\n    <tr>\n      <th>Cylinders</th>\n      <td>6.0</td>\n      <td>6.0</td>\n      <td>4.0</td>\n      <td>4.0</td>\n      <td>4.0</td>\n      <td>4.0</td>\n      <td>4.0</td>\n      <td>4.0</td>\n      <td>4.0</td>\n      <td>6.0</td>\n    </tr>\n    <tr>\n      <th>Gear box type</th>\n      <td>Automatic</td>\n      <td>Tiptronic</td>\n      <td>Variator</td>\n      <td>Automatic</td>\n      <td>Automatic</td>\n      <td>Automatic</td>\n      <td>Automatic</td>\n      <td>Automatic</td>\n      <td>Automatic</td>\n      <td>Automatic</td>\n    </tr>\n    <tr>\n      <th>Drive wheels</th>\n      <td>4x4</td>\n      <td>4x4</td>\n      <td>Front</td>\n      <td>4x4</td>\n      <td>Front</td>\n      <td>Front</td>\n      <td>Front</td>\n      <td>Front</td>\n      <td>Front</td>\n      <td>4x4</td>\n    </tr>\n    <tr>\n      <th>Doors</th>\n      <td>04-May</td>\n      <td>04-May</td>\n      <td>04-May</td>\n      <td>04-May</td>\n      <td>04-May</td>\n      <td>04-May</td>\n      <td>04-May</td>\n      <td>04-May</td>\n      <td>04-May</td>\n      <td>04-May</td>\n    </tr>\n    <tr>\n      <th>Wheel</th>\n      <td>Left wheel</td>\n      <td>Left wheel</td>\n      <td>Right-hand drive</td>\n      <td>Left wheel</td>\n      <td>Left wheel</td>\n      <td>Left wheel</td>\n      <td>Left wheel</td>\n      <td>Left wheel</td>\n      <td>Left wheel</td>\n      <td>Left wheel</td>\n    </tr>\n    <tr>\n      <th>Color</th>\n      <td>Silver</td>\n      <td>Black</td>\n      <td>Black</td>\n      <td>White</td>\n      <td>Silver</td>\n      <td>White</td>\n      <td>White</td>\n      <td>Grey</td>\n      <td>Black</td>\n      <td>Silver</td>\n    </tr>\n    <tr>\n      <th>Airbags</th>\n      <td>12</td>\n      <td>8</td>\n      <td>2</td>\n      <td>0</td>\n      <td>4</td>\n      <td>4</td>\n      <td>12</td>\n      <td>12</td>\n      <td>12</td>\n      <td>12</td>\n    </tr>\n  </tbody>\n</table>\n</div>"
     },
     "execution_count": 11,
     "metadata": {},
     "output_type": "execute_result"
    }
   ],
   "source": [
    "# Read csv file and render top 10 rows\n",
    "df = pd.read_csv(\"car_price_prediction.csv\")\n",
    "df.head(10).T"
   ]
  },
  {
   "cell_type": "code",
   "execution_count": 12,
   "id": "ff35ce2a",
   "metadata": {
    "ExecuteTime": {
     "end_time": "2023-12-08T18:35:45.129069800Z",
     "start_time": "2023-12-08T18:35:44.804469600Z"
    }
   },
   "outputs": [
    {
     "data": {
      "text/plain": "['ID',\n 'Price',\n 'Levy',\n 'Manufacturer',\n 'Model',\n 'Prod. year',\n 'Category',\n 'Leather interior',\n 'Fuel type',\n 'Engine volume',\n 'Mileage',\n 'Cylinders',\n 'Gear box type',\n 'Drive wheels',\n 'Doors',\n 'Wheel',\n 'Color',\n 'Airbags']"
     },
     "execution_count": 12,
     "metadata": {},
     "output_type": "execute_result"
    }
   ],
   "source": [
    "# List of features in dataset\n",
    "df.columns.to_list()"
   ]
  },
  {
   "cell_type": "code",
   "execution_count": 13,
   "id": "07e395d6",
   "metadata": {
    "ExecuteTime": {
     "end_time": "2023-12-08T18:35:45.208805900Z",
     "start_time": "2023-12-08T18:35:44.809464900Z"
    }
   },
   "outputs": [
    {
     "data": {
      "text/plain": "              count          mean            std         min         25%  \\\nID          19237.0  4.557654e+07  936591.422799  20746880.0  45698374.0   \nPrice       19237.0  1.855593e+04  190581.269684         1.0      5331.0   \nProd. year  19237.0  2.010913e+03       5.668673      1939.0      2009.0   \nCylinders   19237.0  4.582991e+00       1.199933         1.0         4.0   \nAirbags     19237.0  6.582627e+00       4.320168         0.0         4.0   \n\n                   50%         75%         max  \nID          45772308.0  45802036.0  45816654.0  \nPrice          13172.0     22075.0  26307500.0  \nProd. year      2012.0      2015.0      2020.0  \nCylinders          4.0         4.0        16.0  \nAirbags            6.0        12.0        16.0  ",
      "text/html": "<div>\n<style scoped>\n    .dataframe tbody tr th:only-of-type {\n        vertical-align: middle;\n    }\n\n    .dataframe tbody tr th {\n        vertical-align: top;\n    }\n\n    .dataframe thead th {\n        text-align: right;\n    }\n</style>\n<table border=\"1\" class=\"dataframe\">\n  <thead>\n    <tr style=\"text-align: right;\">\n      <th></th>\n      <th>count</th>\n      <th>mean</th>\n      <th>std</th>\n      <th>min</th>\n      <th>25%</th>\n      <th>50%</th>\n      <th>75%</th>\n      <th>max</th>\n    </tr>\n  </thead>\n  <tbody>\n    <tr>\n      <th>ID</th>\n      <td>19237.0</td>\n      <td>4.557654e+07</td>\n      <td>936591.422799</td>\n      <td>20746880.0</td>\n      <td>45698374.0</td>\n      <td>45772308.0</td>\n      <td>45802036.0</td>\n      <td>45816654.0</td>\n    </tr>\n    <tr>\n      <th>Price</th>\n      <td>19237.0</td>\n      <td>1.855593e+04</td>\n      <td>190581.269684</td>\n      <td>1.0</td>\n      <td>5331.0</td>\n      <td>13172.0</td>\n      <td>22075.0</td>\n      <td>26307500.0</td>\n    </tr>\n    <tr>\n      <th>Prod. year</th>\n      <td>19237.0</td>\n      <td>2.010913e+03</td>\n      <td>5.668673</td>\n      <td>1939.0</td>\n      <td>2009.0</td>\n      <td>2012.0</td>\n      <td>2015.0</td>\n      <td>2020.0</td>\n    </tr>\n    <tr>\n      <th>Cylinders</th>\n      <td>19237.0</td>\n      <td>4.582991e+00</td>\n      <td>1.199933</td>\n      <td>1.0</td>\n      <td>4.0</td>\n      <td>4.0</td>\n      <td>4.0</td>\n      <td>16.0</td>\n    </tr>\n    <tr>\n      <th>Airbags</th>\n      <td>19237.0</td>\n      <td>6.582627e+00</td>\n      <td>4.320168</td>\n      <td>0.0</td>\n      <td>4.0</td>\n      <td>6.0</td>\n      <td>12.0</td>\n      <td>16.0</td>\n    </tr>\n  </tbody>\n</table>\n</div>"
     },
     "execution_count": 13,
     "metadata": {},
     "output_type": "execute_result"
    }
   ],
   "source": [
    "# Print summary of dataset and have a look at central tendancy\n",
    "df.describe().T"
   ]
  },
  {
   "cell_type": "markdown",
   "id": "9cc8e4bb",
   "metadata": {},
   "source": [
    "# Data Preprocessing\n",
    "## 1. Column Renaming"
   ]
  },
  {
   "cell_type": "code",
   "execution_count": 14,
   "id": "d59b99cc",
   "metadata": {
    "ExecuteTime": {
     "end_time": "2023-12-08T18:35:45.228840800Z",
     "start_time": "2023-12-08T18:35:44.826801200Z"
    }
   },
   "outputs": [],
   "source": [
    "# Renaming dataset attributes for better understanding\n",
    "df.rename(columns={'Prod. year': 'Prod_year'}, inplace=True)\n",
    "df.rename(columns={'Leather interior': 'Leather_interior'}, inplace=True)\n",
    "df.rename(columns={'Fuel type': 'Fuel_type'}, inplace=True)\n",
    "df.rename(columns={'Engine volume': 'Engine_volume'}, inplace=True)\n",
    "df.rename(columns={'Gear box type': 'Gear_box_type'}, inplace=True)\n",
    "df.rename(columns={'Drive wheels': 'Drive_wheels'}, inplace=True)"
   ]
  },
  {
   "cell_type": "markdown",
   "id": "ece63469",
   "metadata": {},
   "source": [
    "## 2. Removing Duplicates"
   ]
  },
  {
   "cell_type": "code",
   "execution_count": 15,
   "id": "1016527e",
   "metadata": {
    "ExecuteTime": {
     "end_time": "2023-12-08T18:35:45.228840800Z",
     "start_time": "2023-12-08T18:35:44.830238700Z"
    }
   },
   "outputs": [
    {
     "data": {
      "text/plain": "(19237, 18)"
     },
     "execution_count": 15,
     "metadata": {},
     "output_type": "execute_result"
    }
   ],
   "source": [
    "# Dimention of dataset before removing duplicates \n",
    "df.shape"
   ]
  },
  {
   "cell_type": "code",
   "execution_count": 16,
   "id": "57dd496b",
   "metadata": {
    "ExecuteTime": {
     "end_time": "2023-12-08T18:35:45.242856100Z",
     "start_time": "2023-12-08T18:35:44.836736300Z"
    }
   },
   "outputs": [
    {
     "data": {
      "text/plain": "313"
     },
     "execution_count": 16,
     "metadata": {},
     "output_type": "execute_result"
    }
   ],
   "source": [
    "# Count the number of duplicates in dataset\n",
    "df.duplicated().sum()"
   ]
  },
  {
   "cell_type": "code",
   "execution_count": 17,
   "id": "19c64b45",
   "metadata": {
    "ExecuteTime": {
     "end_time": "2023-12-08T18:35:45.245857600Z",
     "start_time": "2023-12-08T18:35:44.856080300Z"
    }
   },
   "outputs": [],
   "source": [
    "# Drop duplicate rows from dataset\n",
    "df = df.drop_duplicates()"
   ]
  },
  {
   "cell_type": "code",
   "execution_count": 18,
   "id": "06fb2c31",
   "metadata": {
    "ExecuteTime": {
     "end_time": "2023-12-08T18:35:45.246364100Z",
     "start_time": "2023-12-08T18:35:44.876058Z"
    }
   },
   "outputs": [
    {
     "data": {
      "text/plain": "(18924, 18)"
     },
     "execution_count": 18,
     "metadata": {},
     "output_type": "execute_result"
    }
   ],
   "source": [
    "# Dimention of dataset after removing duplicates\n",
    "df.shape"
   ]
  },
  {
   "cell_type": "markdown",
   "id": "f2673871",
   "metadata": {},
   "source": [
    "## 3. Handling inconsistent Mileage values"
   ]
  },
  {
   "cell_type": "code",
   "execution_count": 19,
   "id": "c9d4585f",
   "metadata": {
    "ExecuteTime": {
     "end_time": "2023-12-08T18:35:45.246868600Z",
     "start_time": "2023-12-08T18:35:44.880588400Z"
    }
   },
   "outputs": [
    {
     "data": {
      "text/plain": "         ID  Price  Levy Manufacturer    Model  Prod_year   Category  \\\n0  45654403  13328  1399        LEXUS   RX 450       2010       Jeep   \n1  44731507  16621  1018    CHEVROLET  Equinox       2011       Jeep   \n2  45774419   8467     -        HONDA      FIT       2006  Hatchback   \n3  45769185   3607   862         FORD   Escape       2011       Jeep   \n4  45809263  11726   446        HONDA      FIT       2014  Hatchback   \n\n  Leather_interior Fuel_type Engine_volume Mileage  Cylinders Gear_box_type  \\\n0              Yes    Hybrid           3.5  186005        6.0     Automatic   \n1               No    Petrol             3  192000        6.0     Tiptronic   \n2               No    Petrol           1.3  200000        4.0      Variator   \n3              Yes    Hybrid           2.5  168966        4.0     Automatic   \n4              Yes    Petrol           1.3   91901        4.0     Automatic   \n\n  Drive_wheels   Doors             Wheel   Color  Airbags  \n0          4x4  04-May        Left wheel  Silver       12  \n1          4x4  04-May        Left wheel   Black        8  \n2        Front  04-May  Right-hand drive   Black        2  \n3          4x4  04-May        Left wheel   White        0  \n4        Front  04-May        Left wheel  Silver        4  ",
      "text/html": "<div>\n<style scoped>\n    .dataframe tbody tr th:only-of-type {\n        vertical-align: middle;\n    }\n\n    .dataframe tbody tr th {\n        vertical-align: top;\n    }\n\n    .dataframe thead th {\n        text-align: right;\n    }\n</style>\n<table border=\"1\" class=\"dataframe\">\n  <thead>\n    <tr style=\"text-align: right;\">\n      <th></th>\n      <th>ID</th>\n      <th>Price</th>\n      <th>Levy</th>\n      <th>Manufacturer</th>\n      <th>Model</th>\n      <th>Prod_year</th>\n      <th>Category</th>\n      <th>Leather_interior</th>\n      <th>Fuel_type</th>\n      <th>Engine_volume</th>\n      <th>Mileage</th>\n      <th>Cylinders</th>\n      <th>Gear_box_type</th>\n      <th>Drive_wheels</th>\n      <th>Doors</th>\n      <th>Wheel</th>\n      <th>Color</th>\n      <th>Airbags</th>\n    </tr>\n  </thead>\n  <tbody>\n    <tr>\n      <th>0</th>\n      <td>45654403</td>\n      <td>13328</td>\n      <td>1399</td>\n      <td>LEXUS</td>\n      <td>RX 450</td>\n      <td>2010</td>\n      <td>Jeep</td>\n      <td>Yes</td>\n      <td>Hybrid</td>\n      <td>3.5</td>\n      <td>186005</td>\n      <td>6.0</td>\n      <td>Automatic</td>\n      <td>4x4</td>\n      <td>04-May</td>\n      <td>Left wheel</td>\n      <td>Silver</td>\n      <td>12</td>\n    </tr>\n    <tr>\n      <th>1</th>\n      <td>44731507</td>\n      <td>16621</td>\n      <td>1018</td>\n      <td>CHEVROLET</td>\n      <td>Equinox</td>\n      <td>2011</td>\n      <td>Jeep</td>\n      <td>No</td>\n      <td>Petrol</td>\n      <td>3</td>\n      <td>192000</td>\n      <td>6.0</td>\n      <td>Tiptronic</td>\n      <td>4x4</td>\n      <td>04-May</td>\n      <td>Left wheel</td>\n      <td>Black</td>\n      <td>8</td>\n    </tr>\n    <tr>\n      <th>2</th>\n      <td>45774419</td>\n      <td>8467</td>\n      <td>-</td>\n      <td>HONDA</td>\n      <td>FIT</td>\n      <td>2006</td>\n      <td>Hatchback</td>\n      <td>No</td>\n      <td>Petrol</td>\n      <td>1.3</td>\n      <td>200000</td>\n      <td>4.0</td>\n      <td>Variator</td>\n      <td>Front</td>\n      <td>04-May</td>\n      <td>Right-hand drive</td>\n      <td>Black</td>\n      <td>2</td>\n    </tr>\n    <tr>\n      <th>3</th>\n      <td>45769185</td>\n      <td>3607</td>\n      <td>862</td>\n      <td>FORD</td>\n      <td>Escape</td>\n      <td>2011</td>\n      <td>Jeep</td>\n      <td>Yes</td>\n      <td>Hybrid</td>\n      <td>2.5</td>\n      <td>168966</td>\n      <td>4.0</td>\n      <td>Automatic</td>\n      <td>4x4</td>\n      <td>04-May</td>\n      <td>Left wheel</td>\n      <td>White</td>\n      <td>0</td>\n    </tr>\n    <tr>\n      <th>4</th>\n      <td>45809263</td>\n      <td>11726</td>\n      <td>446</td>\n      <td>HONDA</td>\n      <td>FIT</td>\n      <td>2014</td>\n      <td>Hatchback</td>\n      <td>Yes</td>\n      <td>Petrol</td>\n      <td>1.3</td>\n      <td>91901</td>\n      <td>4.0</td>\n      <td>Automatic</td>\n      <td>Front</td>\n      <td>04-May</td>\n      <td>Left wheel</td>\n      <td>Silver</td>\n      <td>4</td>\n    </tr>\n  </tbody>\n</table>\n</div>"
     },
     "execution_count": 19,
     "metadata": {},
     "output_type": "execute_result"
    }
   ],
   "source": [
    "# remove km from mileage\n",
    "\n",
    "df[\"Mileage\"] = df[\"Mileage\"].str.replace(' km', '')  # Replace spaces with underscores\n",
    "\n",
    "df.head(5)"
   ]
  },
  {
   "cell_type": "markdown",
   "id": "6cb9ac1c",
   "metadata": {},
   "source": [
    "## 4. Handle incorrect format of Levy"
   ]
  },
  {
   "cell_type": "code",
   "execution_count": 20,
   "id": "f1bc171d",
   "metadata": {
    "scrolled": false,
    "ExecuteTime": {
     "end_time": "2023-12-08T18:35:45.246868600Z",
     "start_time": "2023-12-08T18:35:44.896212900Z"
    }
   },
   "outputs": [],
   "source": [
    "# Replace '-' and '' with '0'\n",
    "df[\"Levy\"] = df[\"Levy\"].str.replace(\"-\", '')\n",
    "df[\"Levy\"] = df[\"Levy\"].str.replace(\"\", '0')\n"
   ]
  },
  {
   "cell_type": "markdown",
   "id": "01f3bcc7",
   "metadata": {},
   "source": [
    "## 5. Feature Engineering"
   ]
  },
  {
   "cell_type": "code",
   "execution_count": 21,
   "id": "362f64e7",
   "metadata": {
    "ExecuteTime": {
     "end_time": "2023-12-08T18:35:45.260623400Z",
     "start_time": "2023-12-08T18:35:44.907415700Z"
    }
   },
   "outputs": [
    {
     "data": {
      "text/plain": "         ID  Price       Levy Manufacturer    Model  Prod_year   Category  \\\n0  45654403  13328  010309090        LEXUS   RX 450       2010       Jeep   \n1  44731507  16621  010001080    CHEVROLET  Equinox       2011       Jeep   \n2  45774419   8467          0        HONDA      FIT       2006  Hatchback   \n3  45769185   3607    0806020         FORD   Escape       2011       Jeep   \n4  45809263  11726    0404060        HONDA      FIT       2014  Hatchback   \n\n  Leather_interior Fuel_type Engine_volume Mileage  Cylinders Gear_box_type  \\\n0              Yes    Hybrid           3.5  186005        6.0     Automatic   \n1               No    Petrol             3  192000        6.0     Tiptronic   \n2               No    Petrol           1.3  200000        4.0      Variator   \n3              Yes    Hybrid           2.5  168966        4.0     Automatic   \n4              Yes    Petrol           1.3   91901        4.0     Automatic   \n\n  Drive_wheels   Doors             Wheel   Color  Airbags  With_Turbo  \n0          4x4  04-May        Left wheel  Silver       12           0  \n1          4x4  04-May        Left wheel   Black        8           0  \n2        Front  04-May  Right-hand drive   Black        2           0  \n3          4x4  04-May        Left wheel   White        0           0  \n4        Front  04-May        Left wheel  Silver        4           0  ",
      "text/html": "<div>\n<style scoped>\n    .dataframe tbody tr th:only-of-type {\n        vertical-align: middle;\n    }\n\n    .dataframe tbody tr th {\n        vertical-align: top;\n    }\n\n    .dataframe thead th {\n        text-align: right;\n    }\n</style>\n<table border=\"1\" class=\"dataframe\">\n  <thead>\n    <tr style=\"text-align: right;\">\n      <th></th>\n      <th>ID</th>\n      <th>Price</th>\n      <th>Levy</th>\n      <th>Manufacturer</th>\n      <th>Model</th>\n      <th>Prod_year</th>\n      <th>Category</th>\n      <th>Leather_interior</th>\n      <th>Fuel_type</th>\n      <th>Engine_volume</th>\n      <th>Mileage</th>\n      <th>Cylinders</th>\n      <th>Gear_box_type</th>\n      <th>Drive_wheels</th>\n      <th>Doors</th>\n      <th>Wheel</th>\n      <th>Color</th>\n      <th>Airbags</th>\n      <th>With_Turbo</th>\n    </tr>\n  </thead>\n  <tbody>\n    <tr>\n      <th>0</th>\n      <td>45654403</td>\n      <td>13328</td>\n      <td>010309090</td>\n      <td>LEXUS</td>\n      <td>RX 450</td>\n      <td>2010</td>\n      <td>Jeep</td>\n      <td>Yes</td>\n      <td>Hybrid</td>\n      <td>3.5</td>\n      <td>186005</td>\n      <td>6.0</td>\n      <td>Automatic</td>\n      <td>4x4</td>\n      <td>04-May</td>\n      <td>Left wheel</td>\n      <td>Silver</td>\n      <td>12</td>\n      <td>0</td>\n    </tr>\n    <tr>\n      <th>1</th>\n      <td>44731507</td>\n      <td>16621</td>\n      <td>010001080</td>\n      <td>CHEVROLET</td>\n      <td>Equinox</td>\n      <td>2011</td>\n      <td>Jeep</td>\n      <td>No</td>\n      <td>Petrol</td>\n      <td>3</td>\n      <td>192000</td>\n      <td>6.0</td>\n      <td>Tiptronic</td>\n      <td>4x4</td>\n      <td>04-May</td>\n      <td>Left wheel</td>\n      <td>Black</td>\n      <td>8</td>\n      <td>0</td>\n    </tr>\n    <tr>\n      <th>2</th>\n      <td>45774419</td>\n      <td>8467</td>\n      <td>0</td>\n      <td>HONDA</td>\n      <td>FIT</td>\n      <td>2006</td>\n      <td>Hatchback</td>\n      <td>No</td>\n      <td>Petrol</td>\n      <td>1.3</td>\n      <td>200000</td>\n      <td>4.0</td>\n      <td>Variator</td>\n      <td>Front</td>\n      <td>04-May</td>\n      <td>Right-hand drive</td>\n      <td>Black</td>\n      <td>2</td>\n      <td>0</td>\n    </tr>\n    <tr>\n      <th>3</th>\n      <td>45769185</td>\n      <td>3607</td>\n      <td>0806020</td>\n      <td>FORD</td>\n      <td>Escape</td>\n      <td>2011</td>\n      <td>Jeep</td>\n      <td>Yes</td>\n      <td>Hybrid</td>\n      <td>2.5</td>\n      <td>168966</td>\n      <td>4.0</td>\n      <td>Automatic</td>\n      <td>4x4</td>\n      <td>04-May</td>\n      <td>Left wheel</td>\n      <td>White</td>\n      <td>0</td>\n      <td>0</td>\n    </tr>\n    <tr>\n      <th>4</th>\n      <td>45809263</td>\n      <td>11726</td>\n      <td>0404060</td>\n      <td>HONDA</td>\n      <td>FIT</td>\n      <td>2014</td>\n      <td>Hatchback</td>\n      <td>Yes</td>\n      <td>Petrol</td>\n      <td>1.3</td>\n      <td>91901</td>\n      <td>4.0</td>\n      <td>Automatic</td>\n      <td>Front</td>\n      <td>04-May</td>\n      <td>Left wheel</td>\n      <td>Silver</td>\n      <td>4</td>\n      <td>0</td>\n    </tr>\n  </tbody>\n</table>\n</div>"
     },
     "execution_count": 21,
     "metadata": {},
     "output_type": "execute_result"
    }
   ],
   "source": [
    "# Create new enriched column 'With_Turbo' and remove 'Turbo' from eng\n",
    "df['With_Turbo'] = df['Engine_volume'].str.contains(' Turbo', case=False).astype(int)\n",
    "df[\"Engine_volume\"] = df[\"Engine_volume\"].str.replace(' Turbo', '')\n",
    "df.head()"
   ]
  },
  {
   "cell_type": "markdown",
   "id": "ba29bdeb",
   "metadata": {},
   "source": [
    "## 6. Handling Null Values"
   ]
  },
  {
   "cell_type": "code",
   "execution_count": 22,
   "id": "b49e8203",
   "metadata": {
    "ExecuteTime": {
     "end_time": "2023-12-08T18:35:45.261629700Z",
     "start_time": "2023-12-08T18:35:44.925788600Z"
    }
   },
   "outputs": [
    {
     "data": {
      "text/plain": "ID                  0\nPrice               0\nLevy                0\nManufacturer        0\nModel               0\nProd_year           0\nCategory            0\nLeather_interior    0\nFuel_type           0\nEngine_volume       0\nMileage             0\nCylinders           0\nGear_box_type       0\nDrive_wheels        0\nDoors               0\nWheel               0\nColor               0\nAirbags             0\nWith_Turbo          0\ndtype: int64"
     },
     "execution_count": 22,
     "metadata": {},
     "output_type": "execute_result"
    }
   ],
   "source": [
    "# Check for any missing values\n",
    "df.isnull().sum()\n",
    "# Since there are no missing values we don't have to worry about filling \n",
    "# missing values"
   ]
  },
  {
   "cell_type": "markdown",
   "id": "cd4c2a52",
   "metadata": {},
   "source": [
    "## 7. Datatype conversion"
   ]
  },
  {
   "cell_type": "code",
   "execution_count": 23,
   "id": "93583cfe",
   "metadata": {
    "ExecuteTime": {
     "end_time": "2023-12-08T18:35:45.261629700Z",
     "start_time": "2023-12-08T18:35:44.938645200Z"
    }
   },
   "outputs": [],
   "source": [
    "# Converting datatypes of attributes \n",
    "df['Manufacturer'] = df['Manufacturer'].astype('category')\n",
    "df['Category'] = df['Category'].astype('category')\n",
    "df['Leather_interior'] = df['Leather_interior'].astype('category')\n",
    "df['Fuel_type'] = df['Fuel_type'].astype('category')\n",
    "df['Gear_box_type'] = df['Gear_box_type'].astype('category')\n",
    "df['Drive_wheels'] = df['Drive_wheels'].astype('category')\n",
    "df['Doors'] = df['Doors'].astype('category')\n",
    "df['Wheel'] = df['Wheel'].astype('category')\n",
    "df['Color'] = df['Color'].astype('category')\n",
    "df['Model'] = df['Model'].astype('category')\n",
    "df[\"Mileage\"] = df[\"Mileage\"].astype(str).astype(int)\n",
    "df[\"Levy\"] = df[\"Levy\"].astype(str).astype(float)\n",
    "df[\"Engine_volume\"] = df[\"Engine_volume\"].astype(str).astype(float)"
   ]
  },
  {
   "cell_type": "code",
   "execution_count": 24,
   "id": "16b43f40",
   "metadata": {
    "ExecuteTime": {
     "end_time": "2023-12-08T18:35:45.261629700Z",
     "start_time": "2023-12-08T18:35:44.961178500Z"
    }
   },
   "outputs": [
    {
     "name": "stdout",
     "output_type": "stream",
     "text": [
      "<class 'pandas.core.frame.DataFrame'>\n",
      "Index: 18924 entries, 0 to 19236\n",
      "Data columns (total 19 columns):\n",
      " #   Column            Non-Null Count  Dtype   \n",
      "---  ------            --------------  -----   \n",
      " 0   ID                18924 non-null  int64   \n",
      " 1   Price             18924 non-null  int64   \n",
      " 2   Levy              18924 non-null  float64 \n",
      " 3   Manufacturer      18924 non-null  category\n",
      " 4   Model             18924 non-null  category\n",
      " 5   Prod_year         18924 non-null  int64   \n",
      " 6   Category          18924 non-null  category\n",
      " 7   Leather_interior  18924 non-null  category\n",
      " 8   Fuel_type         18924 non-null  category\n",
      " 9   Engine_volume     18924 non-null  float64 \n",
      " 10  Mileage           18924 non-null  int32   \n",
      " 11  Cylinders         18924 non-null  float64 \n",
      " 12  Gear_box_type     18924 non-null  category\n",
      " 13  Drive_wheels      18924 non-null  category\n",
      " 14  Doors             18924 non-null  category\n",
      " 15  Wheel             18924 non-null  category\n",
      " 16  Color             18924 non-null  category\n",
      " 17  Airbags           18924 non-null  int64   \n",
      " 18  With_Turbo        18924 non-null  int32   \n",
      "dtypes: category(10), float64(3), int32(2), int64(4)\n",
      "memory usage: 1.6 MB\n"
     ]
    }
   ],
   "source": [
    "# To render the change in datatype conversion\n",
    "df.info()"
   ]
  },
  {
   "cell_type": "markdown",
   "id": "e7fd2590",
   "metadata": {},
   "source": [
    "## 8. Drop irrelevant columns"
   ]
  },
  {
   "cell_type": "code",
   "execution_count": 25,
   "id": "e5d17a85",
   "metadata": {
    "scrolled": true,
    "ExecuteTime": {
     "end_time": "2023-12-08T18:35:45.262630900Z",
     "start_time": "2023-12-08T18:35:44.984722Z"
    }
   },
   "outputs": [
    {
     "data": {
      "text/plain": "   Price        Levy Manufacturer    Model  Prod_year   Category  \\\n0  13328  10309090.0        LEXUS   RX 450       2010       Jeep   \n1  16621  10001080.0    CHEVROLET  Equinox       2011       Jeep   \n2   8467         0.0        HONDA      FIT       2006  Hatchback   \n3   3607    806020.0         FORD   Escape       2011       Jeep   \n4  11726    404060.0        HONDA      FIT       2014  Hatchback   \n\n  Leather_interior Fuel_type  Engine_volume  Mileage  Cylinders Gear_box_type  \\\n0              Yes    Hybrid            3.5   186005        6.0     Automatic   \n1               No    Petrol            3.0   192000        6.0     Tiptronic   \n2               No    Petrol            1.3   200000        4.0      Variator   \n3              Yes    Hybrid            2.5   168966        4.0     Automatic   \n4              Yes    Petrol            1.3    91901        4.0     Automatic   \n\n  Drive_wheels   Doors             Wheel   Color  Airbags  With_Turbo  \n0          4x4  04-May        Left wheel  Silver       12           0  \n1          4x4  04-May        Left wheel   Black        8           0  \n2        Front  04-May  Right-hand drive   Black        2           0  \n3          4x4  04-May        Left wheel   White        0           0  \n4        Front  04-May        Left wheel  Silver        4           0  ",
      "text/html": "<div>\n<style scoped>\n    .dataframe tbody tr th:only-of-type {\n        vertical-align: middle;\n    }\n\n    .dataframe tbody tr th {\n        vertical-align: top;\n    }\n\n    .dataframe thead th {\n        text-align: right;\n    }\n</style>\n<table border=\"1\" class=\"dataframe\">\n  <thead>\n    <tr style=\"text-align: right;\">\n      <th></th>\n      <th>Price</th>\n      <th>Levy</th>\n      <th>Manufacturer</th>\n      <th>Model</th>\n      <th>Prod_year</th>\n      <th>Category</th>\n      <th>Leather_interior</th>\n      <th>Fuel_type</th>\n      <th>Engine_volume</th>\n      <th>Mileage</th>\n      <th>Cylinders</th>\n      <th>Gear_box_type</th>\n      <th>Drive_wheels</th>\n      <th>Doors</th>\n      <th>Wheel</th>\n      <th>Color</th>\n      <th>Airbags</th>\n      <th>With_Turbo</th>\n    </tr>\n  </thead>\n  <tbody>\n    <tr>\n      <th>0</th>\n      <td>13328</td>\n      <td>10309090.0</td>\n      <td>LEXUS</td>\n      <td>RX 450</td>\n      <td>2010</td>\n      <td>Jeep</td>\n      <td>Yes</td>\n      <td>Hybrid</td>\n      <td>3.5</td>\n      <td>186005</td>\n      <td>6.0</td>\n      <td>Automatic</td>\n      <td>4x4</td>\n      <td>04-May</td>\n      <td>Left wheel</td>\n      <td>Silver</td>\n      <td>12</td>\n      <td>0</td>\n    </tr>\n    <tr>\n      <th>1</th>\n      <td>16621</td>\n      <td>10001080.0</td>\n      <td>CHEVROLET</td>\n      <td>Equinox</td>\n      <td>2011</td>\n      <td>Jeep</td>\n      <td>No</td>\n      <td>Petrol</td>\n      <td>3.0</td>\n      <td>192000</td>\n      <td>6.0</td>\n      <td>Tiptronic</td>\n      <td>4x4</td>\n      <td>04-May</td>\n      <td>Left wheel</td>\n      <td>Black</td>\n      <td>8</td>\n      <td>0</td>\n    </tr>\n    <tr>\n      <th>2</th>\n      <td>8467</td>\n      <td>0.0</td>\n      <td>HONDA</td>\n      <td>FIT</td>\n      <td>2006</td>\n      <td>Hatchback</td>\n      <td>No</td>\n      <td>Petrol</td>\n      <td>1.3</td>\n      <td>200000</td>\n      <td>4.0</td>\n      <td>Variator</td>\n      <td>Front</td>\n      <td>04-May</td>\n      <td>Right-hand drive</td>\n      <td>Black</td>\n      <td>2</td>\n      <td>0</td>\n    </tr>\n    <tr>\n      <th>3</th>\n      <td>3607</td>\n      <td>806020.0</td>\n      <td>FORD</td>\n      <td>Escape</td>\n      <td>2011</td>\n      <td>Jeep</td>\n      <td>Yes</td>\n      <td>Hybrid</td>\n      <td>2.5</td>\n      <td>168966</td>\n      <td>4.0</td>\n      <td>Automatic</td>\n      <td>4x4</td>\n      <td>04-May</td>\n      <td>Left wheel</td>\n      <td>White</td>\n      <td>0</td>\n      <td>0</td>\n    </tr>\n    <tr>\n      <th>4</th>\n      <td>11726</td>\n      <td>404060.0</td>\n      <td>HONDA</td>\n      <td>FIT</td>\n      <td>2014</td>\n      <td>Hatchback</td>\n      <td>Yes</td>\n      <td>Petrol</td>\n      <td>1.3</td>\n      <td>91901</td>\n      <td>4.0</td>\n      <td>Automatic</td>\n      <td>Front</td>\n      <td>04-May</td>\n      <td>Left wheel</td>\n      <td>Silver</td>\n      <td>4</td>\n      <td>0</td>\n    </tr>\n  </tbody>\n</table>\n</div>"
     },
     "execution_count": 25,
     "metadata": {},
     "output_type": "execute_result"
    }
   ],
   "source": [
    "# Drop ID column as it wont contribute in prediction\n",
    "df.drop(columns='ID', inplace=True)\n",
    "df.head(5)"
   ]
  },
  {
   "cell_type": "markdown",
   "id": "746c2df5",
   "metadata": {},
   "source": [
    "## 9. Outlier Removal"
   ]
  },
  {
   "cell_type": "code",
   "execution_count": 26,
   "id": "949a1b10",
   "metadata": {
    "ExecuteTime": {
     "end_time": "2023-12-08T18:35:45.264631Z",
     "start_time": "2023-12-08T18:35:44.997330900Z"
    }
   },
   "outputs": [
    {
     "data": {
      "text/plain": "          Price  Levy Manufacturer  Model  Prod_year     Category  \\\n16983  26307500   0.0         OPEL  Combo       1999  Goods wagon   \n\n      Leather_interior Fuel_type  Engine_volume  Mileage  Cylinders  \\\n16983               No    Diesel            1.7    99999        4.0   \n\n      Gear_box_type Drive_wheels   Doors       Wheel Color  Airbags  \\\n16983        Manual        Front  02-Mar  Left wheel  Blue        0   \n\n       With_Turbo  \n16983           0  ",
      "text/html": "<div>\n<style scoped>\n    .dataframe tbody tr th:only-of-type {\n        vertical-align: middle;\n    }\n\n    .dataframe tbody tr th {\n        vertical-align: top;\n    }\n\n    .dataframe thead th {\n        text-align: right;\n    }\n</style>\n<table border=\"1\" class=\"dataframe\">\n  <thead>\n    <tr style=\"text-align: right;\">\n      <th></th>\n      <th>Price</th>\n      <th>Levy</th>\n      <th>Manufacturer</th>\n      <th>Model</th>\n      <th>Prod_year</th>\n      <th>Category</th>\n      <th>Leather_interior</th>\n      <th>Fuel_type</th>\n      <th>Engine_volume</th>\n      <th>Mileage</th>\n      <th>Cylinders</th>\n      <th>Gear_box_type</th>\n      <th>Drive_wheels</th>\n      <th>Doors</th>\n      <th>Wheel</th>\n      <th>Color</th>\n      <th>Airbags</th>\n      <th>With_Turbo</th>\n    </tr>\n  </thead>\n  <tbody>\n    <tr>\n      <th>16983</th>\n      <td>26307500</td>\n      <td>0.0</td>\n      <td>OPEL</td>\n      <td>Combo</td>\n      <td>1999</td>\n      <td>Goods wagon</td>\n      <td>No</td>\n      <td>Diesel</td>\n      <td>1.7</td>\n      <td>99999</td>\n      <td>4.0</td>\n      <td>Manual</td>\n      <td>Front</td>\n      <td>02-Mar</td>\n      <td>Left wheel</td>\n      <td>Blue</td>\n      <td>0</td>\n      <td>0</td>\n    </tr>\n  </tbody>\n</table>\n</div>"
     },
     "metadata": {},
     "output_type": "display_data"
    },
    {
     "data": {
      "text/plain": "       Price        Levy   Manufacturer   Model  Prod_year   Category  \\\n7        549    705010.0        HYUNDAI  Sonata       2013      Sedan   \n10       941  10005030.0  MERCEDES-BENZ   E 350       2014      Sedan   \n15       549  10007090.0         TOYOTA     CHR       2018       Jeep   \n18       549  20308060.0        HYUNDAI  Sonata       2006      Sedan   \n19       941  10805000.0          LEXUS  RX 400       2008       Jeep   \n...      ...         ...            ...     ...        ...        ...   \n19218     30         0.0         NISSAN    Note       2006  Hatchback   \n19228    706  10805000.0  MERCEDES-BENZ   E 350       2008      Sedan   \n19229     50         0.0         TOYOTA   Prius       2008  Hatchback   \n19230    470    604050.0         TOYOTA   Prius       2011  Hatchback   \n19236    470    705030.0        HYUNDAI  Sonata       2012      Sedan   \n\n      Leather_interior Fuel_type  Engine_volume  Mileage  Cylinders  \\\n7                  Yes    Petrol            2.4   216118        4.0   \n10                 Yes    Diesel            3.5   184467        6.0   \n15                 Yes    Petrol            2.0    74146        4.0   \n18                 Yes    Petrol            3.3   295059        6.0   \n19                 Yes    Hybrid            3.5   364523        6.0   \n...                ...       ...            ...      ...        ...   \n19218               No    Petrol            1.3        0        4.0   \n19228              Yes    Diesel            3.5   122874        6.0   \n19229               No    Hybrid            1.5   150000        4.0   \n19230              Yes    Hybrid            1.8   307325        4.0   \n19236              Yes    Hybrid            2.4   186923        4.0   \n\n      Gear_box_type Drive_wheels   Doors             Wheel   Color  Airbags  \\\n7         Automatic        Front  04-May        Left wheel    Grey       12   \n10        Automatic         Rear  04-May        Left wheel   White       12   \n15        Automatic        Front  04-May        Left wheel   White       12   \n18        Automatic         Rear  04-May        Left wheel    Blue       12   \n19        Automatic          4x4  04-May        Left wheel   Black       12   \n...             ...          ...     ...               ...     ...      ...   \n19218     Automatic        Front  04-May  Right-hand drive   Green        9   \n19228     Automatic         Rear  04-May        Left wheel   Black       12   \n19229     Automatic        Front  04-May        Left wheel  Silver        6   \n19230     Automatic        Front  04-May        Left wheel  Silver       12   \n19236     Automatic        Front  04-May        Left wheel   White       12   \n\n       With_Turbo  \n7               0  \n10              0  \n15              0  \n18              0  \n19              0  \n...           ...  \n19218           0  \n19228           0  \n19229           0  \n19230           0  \n19236           0  \n\n[2519 rows x 18 columns]",
      "text/html": "<div>\n<style scoped>\n    .dataframe tbody tr th:only-of-type {\n        vertical-align: middle;\n    }\n\n    .dataframe tbody tr th {\n        vertical-align: top;\n    }\n\n    .dataframe thead th {\n        text-align: right;\n    }\n</style>\n<table border=\"1\" class=\"dataframe\">\n  <thead>\n    <tr style=\"text-align: right;\">\n      <th></th>\n      <th>Price</th>\n      <th>Levy</th>\n      <th>Manufacturer</th>\n      <th>Model</th>\n      <th>Prod_year</th>\n      <th>Category</th>\n      <th>Leather_interior</th>\n      <th>Fuel_type</th>\n      <th>Engine_volume</th>\n      <th>Mileage</th>\n      <th>Cylinders</th>\n      <th>Gear_box_type</th>\n      <th>Drive_wheels</th>\n      <th>Doors</th>\n      <th>Wheel</th>\n      <th>Color</th>\n      <th>Airbags</th>\n      <th>With_Turbo</th>\n    </tr>\n  </thead>\n  <tbody>\n    <tr>\n      <th>7</th>\n      <td>549</td>\n      <td>705010.0</td>\n      <td>HYUNDAI</td>\n      <td>Sonata</td>\n      <td>2013</td>\n      <td>Sedan</td>\n      <td>Yes</td>\n      <td>Petrol</td>\n      <td>2.4</td>\n      <td>216118</td>\n      <td>4.0</td>\n      <td>Automatic</td>\n      <td>Front</td>\n      <td>04-May</td>\n      <td>Left wheel</td>\n      <td>Grey</td>\n      <td>12</td>\n      <td>0</td>\n    </tr>\n    <tr>\n      <th>10</th>\n      <td>941</td>\n      <td>10005030.0</td>\n      <td>MERCEDES-BENZ</td>\n      <td>E 350</td>\n      <td>2014</td>\n      <td>Sedan</td>\n      <td>Yes</td>\n      <td>Diesel</td>\n      <td>3.5</td>\n      <td>184467</td>\n      <td>6.0</td>\n      <td>Automatic</td>\n      <td>Rear</td>\n      <td>04-May</td>\n      <td>Left wheel</td>\n      <td>White</td>\n      <td>12</td>\n      <td>0</td>\n    </tr>\n    <tr>\n      <th>15</th>\n      <td>549</td>\n      <td>10007090.0</td>\n      <td>TOYOTA</td>\n      <td>CHR</td>\n      <td>2018</td>\n      <td>Jeep</td>\n      <td>Yes</td>\n      <td>Petrol</td>\n      <td>2.0</td>\n      <td>74146</td>\n      <td>4.0</td>\n      <td>Automatic</td>\n      <td>Front</td>\n      <td>04-May</td>\n      <td>Left wheel</td>\n      <td>White</td>\n      <td>12</td>\n      <td>0</td>\n    </tr>\n    <tr>\n      <th>18</th>\n      <td>549</td>\n      <td>20308060.0</td>\n      <td>HYUNDAI</td>\n      <td>Sonata</td>\n      <td>2006</td>\n      <td>Sedan</td>\n      <td>Yes</td>\n      <td>Petrol</td>\n      <td>3.3</td>\n      <td>295059</td>\n      <td>6.0</td>\n      <td>Automatic</td>\n      <td>Rear</td>\n      <td>04-May</td>\n      <td>Left wheel</td>\n      <td>Blue</td>\n      <td>12</td>\n      <td>0</td>\n    </tr>\n    <tr>\n      <th>19</th>\n      <td>941</td>\n      <td>10805000.0</td>\n      <td>LEXUS</td>\n      <td>RX 400</td>\n      <td>2008</td>\n      <td>Jeep</td>\n      <td>Yes</td>\n      <td>Hybrid</td>\n      <td>3.5</td>\n      <td>364523</td>\n      <td>6.0</td>\n      <td>Automatic</td>\n      <td>4x4</td>\n      <td>04-May</td>\n      <td>Left wheel</td>\n      <td>Black</td>\n      <td>12</td>\n      <td>0</td>\n    </tr>\n    <tr>\n      <th>...</th>\n      <td>...</td>\n      <td>...</td>\n      <td>...</td>\n      <td>...</td>\n      <td>...</td>\n      <td>...</td>\n      <td>...</td>\n      <td>...</td>\n      <td>...</td>\n      <td>...</td>\n      <td>...</td>\n      <td>...</td>\n      <td>...</td>\n      <td>...</td>\n      <td>...</td>\n      <td>...</td>\n      <td>...</td>\n      <td>...</td>\n    </tr>\n    <tr>\n      <th>19218</th>\n      <td>30</td>\n      <td>0.0</td>\n      <td>NISSAN</td>\n      <td>Note</td>\n      <td>2006</td>\n      <td>Hatchback</td>\n      <td>No</td>\n      <td>Petrol</td>\n      <td>1.3</td>\n      <td>0</td>\n      <td>4.0</td>\n      <td>Automatic</td>\n      <td>Front</td>\n      <td>04-May</td>\n      <td>Right-hand drive</td>\n      <td>Green</td>\n      <td>9</td>\n      <td>0</td>\n    </tr>\n    <tr>\n      <th>19228</th>\n      <td>706</td>\n      <td>10805000.0</td>\n      <td>MERCEDES-BENZ</td>\n      <td>E 350</td>\n      <td>2008</td>\n      <td>Sedan</td>\n      <td>Yes</td>\n      <td>Diesel</td>\n      <td>3.5</td>\n      <td>122874</td>\n      <td>6.0</td>\n      <td>Automatic</td>\n      <td>Rear</td>\n      <td>04-May</td>\n      <td>Left wheel</td>\n      <td>Black</td>\n      <td>12</td>\n      <td>0</td>\n    </tr>\n    <tr>\n      <th>19229</th>\n      <td>50</td>\n      <td>0.0</td>\n      <td>TOYOTA</td>\n      <td>Prius</td>\n      <td>2008</td>\n      <td>Hatchback</td>\n      <td>No</td>\n      <td>Hybrid</td>\n      <td>1.5</td>\n      <td>150000</td>\n      <td>4.0</td>\n      <td>Automatic</td>\n      <td>Front</td>\n      <td>04-May</td>\n      <td>Left wheel</td>\n      <td>Silver</td>\n      <td>6</td>\n      <td>0</td>\n    </tr>\n    <tr>\n      <th>19230</th>\n      <td>470</td>\n      <td>604050.0</td>\n      <td>TOYOTA</td>\n      <td>Prius</td>\n      <td>2011</td>\n      <td>Hatchback</td>\n      <td>Yes</td>\n      <td>Hybrid</td>\n      <td>1.8</td>\n      <td>307325</td>\n      <td>4.0</td>\n      <td>Automatic</td>\n      <td>Front</td>\n      <td>04-May</td>\n      <td>Left wheel</td>\n      <td>Silver</td>\n      <td>12</td>\n      <td>0</td>\n    </tr>\n    <tr>\n      <th>19236</th>\n      <td>470</td>\n      <td>705030.0</td>\n      <td>HYUNDAI</td>\n      <td>Sonata</td>\n      <td>2012</td>\n      <td>Sedan</td>\n      <td>Yes</td>\n      <td>Hybrid</td>\n      <td>2.4</td>\n      <td>186923</td>\n      <td>4.0</td>\n      <td>Automatic</td>\n      <td>Front</td>\n      <td>04-May</td>\n      <td>Left wheel</td>\n      <td>White</td>\n      <td>12</td>\n      <td>0</td>\n    </tr>\n  </tbody>\n</table>\n<p>2519 rows × 18 columns</p>\n</div>"
     },
     "metadata": {},
     "output_type": "display_data"
    }
   ],
   "source": [
    "# Display the entry with the maximum price\n",
    "\n",
    "display(df[df.Price == df.Price.max()])\n",
    "display(df[df.Price < 1000])"
   ]
  },
  {
   "cell_type": "code",
   "execution_count": 27,
   "id": "695f5431",
   "metadata": {
    "ExecuteTime": {
     "end_time": "2023-12-08T18:35:45.439807600Z",
     "start_time": "2023-12-08T18:35:45.019440700Z"
    }
   },
   "outputs": [
    {
     "data": {
      "text/plain": "<Figure size 800x600 with 1 Axes>",
      "image/png": "[encoded data removed]"
     },
     "metadata": {},
     "output_type": "display_data"
    }
   ],
   "source": [
    "import matplotlib.pyplot as plt\n",
    "\n",
    "# Set the figure size\n",
    "plt.figure(figsize=(8, 6))\n",
    "\n",
    "#create a box plot for the 'Price' column\n",
    "plt.boxplot(df['Price'])\n",
    "plt.title(f'Box Plot of Price')\n",
    "plt.ylabel('Values')\n",
    "plt.show()"
   ]
  },
  {
   "cell_type": "code",
   "execution_count": 28,
   "id": "0e90474e",
   "metadata": {
    "ExecuteTime": {
     "end_time": "2023-12-08T18:35:45.441806200Z",
     "start_time": "2023-12-08T18:35:45.158184400Z"
    }
   },
   "outputs": [
    {
     "data": {
      "text/plain": "       Price        Levy   Manufacturer     Model  Prod_year  Category  \\\n2278    6899         0.0     VOLKSWAGEN      Golf       1999     Sedan   \n6157    5959         0.0  MERCEDES-BENZ     C 180       1995     Sedan   \n11901  10036         0.0         SUBARU  Forester       2005      Jeep   \n12734   2200         0.0            UAZ     31514       1968      Jeep   \n15347      3         0.0            BMW       525       1995     Sedan   \n15393  15681         0.0         TOYOTA     Prius       2008     Sedan   \n19167  18817  10909050.0           FORD   Transit       2003  Microbus   \n\n      Leather_interior Fuel_type  Engine_volume     Mileage  Cylinders  \\\n2278                No    Petrol            1.6  2147483647        4.0   \n6157                No       CNG            1.8  2147483647        4.0   \n11901               No    Petrol            2.0  2147483647        4.0   \n12734              Yes       CNG            2.4  2147483647        4.0   \n15347               No    Petrol            2.8  2147483647        6.0   \n15393               No    Petrol            2.0  2147483647        4.0   \n19167               No    Diesel            2.4  2147483647        4.0   \n\n      Gear_box_type Drive_wheels   Doors             Wheel  Color  Airbags  \\\n2278         Manual        Front  04-May        Left wheel  Black        4   \n6157         Manual         Rear  04-May        Left wheel   Blue        5   \n11901     Tiptronic          4x4  04-May  Right-hand drive  White       12   \n12734        Manual          4x4  04-May        Left wheel  Black       10   \n15347        Manual         Rear  04-May        Left wheel  Black        3   \n15393     Automatic        Front  04-May        Left wheel   Blue        0   \n19167        Manual        Front  02-Mar        Left wheel  White        2   \n\n       With_Turbo  \n2278            0  \n6157            0  \n11901           0  \n12734           0  \n15347           0  \n15393           0  \n19167           1  ",
      "text/html": "<div>\n<style scoped>\n    .dataframe tbody tr th:only-of-type {\n        vertical-align: middle;\n    }\n\n    .dataframe tbody tr th {\n        vertical-align: top;\n    }\n\n    .dataframe thead th {\n        text-align: right;\n    }\n</style>\n<table border=\"1\" class=\"dataframe\">\n  <thead>\n    <tr style=\"text-align: right;\">\n      <th></th>\n      <th>Price</th>\n      <th>Levy</th>\n      <th>Manufacturer</th>\n      <th>Model</th>\n      <th>Prod_year</th>\n      <th>Category</th>\n      <th>Leather_interior</th>\n      <th>Fuel_type</th>\n      <th>Engine_volume</th>\n      <th>Mileage</th>\n      <th>Cylinders</th>\n      <th>Gear_box_type</th>\n      <th>Drive_wheels</th>\n      <th>Doors</th>\n      <th>Wheel</th>\n      <th>Color</th>\n      <th>Airbags</th>\n      <th>With_Turbo</th>\n    </tr>\n  </thead>\n  <tbody>\n    <tr>\n      <th>2278</th>\n      <td>6899</td>\n      <td>0.0</td>\n      <td>VOLKSWAGEN</td>\n      <td>Golf</td>\n      <td>1999</td>\n      <td>Sedan</td>\n      <td>No</td>\n      <td>Petrol</td>\n      <td>1.6</td>\n      <td>2147483647</td>\n      <td>4.0</td>\n      <td>Manual</td>\n      <td>Front</td>\n      <td>04-May</td>\n      <td>Left wheel</td>\n      <td>Black</td>\n      <td>4</td>\n      <td>0</td>\n    </tr>\n    <tr>\n      <th>6157</th>\n      <td>5959</td>\n      <td>0.0</td>\n      <td>MERCEDES-BENZ</td>\n      <td>C 180</td>\n      <td>1995</td>\n      <td>Sedan</td>\n      <td>No</td>\n      <td>CNG</td>\n      <td>1.8</td>\n      <td>2147483647</td>\n      <td>4.0</td>\n      <td>Manual</td>\n      <td>Rear</td>\n      <td>04-May</td>\n      <td>Left wheel</td>\n      <td>Blue</td>\n      <td>5</td>\n      <td>0</td>\n    </tr>\n    <tr>\n      <th>11901</th>\n      <td>10036</td>\n      <td>0.0</td>\n      <td>SUBARU</td>\n      <td>Forester</td>\n      <td>2005</td>\n      <td>Jeep</td>\n      <td>No</td>\n      <td>Petrol</td>\n      <td>2.0</td>\n      <td>2147483647</td>\n      <td>4.0</td>\n      <td>Tiptronic</td>\n      <td>4x4</td>\n      <td>04-May</td>\n      <td>Right-hand drive</td>\n      <td>White</td>\n      <td>12</td>\n      <td>0</td>\n    </tr>\n    <tr>\n      <th>12734</th>\n      <td>2200</td>\n      <td>0.0</td>\n      <td>UAZ</td>\n      <td>31514</td>\n      <td>1968</td>\n      <td>Jeep</td>\n      <td>Yes</td>\n      <td>CNG</td>\n      <td>2.4</td>\n      <td>2147483647</td>\n      <td>4.0</td>\n      <td>Manual</td>\n      <td>4x4</td>\n      <td>04-May</td>\n      <td>Left wheel</td>\n      <td>Black</td>\n      <td>10</td>\n      <td>0</td>\n    </tr>\n    <tr>\n      <th>15347</th>\n      <td>3</td>\n      <td>0.0</td>\n      <td>BMW</td>\n      <td>525</td>\n      <td>1995</td>\n      <td>Sedan</td>\n      <td>No</td>\n      <td>Petrol</td>\n      <td>2.8</td>\n      <td>2147483647</td>\n      <td>6.0</td>\n      <td>Manual</td>\n      <td>Rear</td>\n      <td>04-May</td>\n      <td>Left wheel</td>\n      <td>Black</td>\n      <td>3</td>\n      <td>0</td>\n    </tr>\n    <tr>\n      <th>15393</th>\n      <td>15681</td>\n      <td>0.0</td>\n      <td>TOYOTA</td>\n      <td>Prius</td>\n      <td>2008</td>\n      <td>Sedan</td>\n      <td>No</td>\n      <td>Petrol</td>\n      <td>2.0</td>\n      <td>2147483647</td>\n      <td>4.0</td>\n      <td>Automatic</td>\n      <td>Front</td>\n      <td>04-May</td>\n      <td>Left wheel</td>\n      <td>Blue</td>\n      <td>0</td>\n      <td>0</td>\n    </tr>\n    <tr>\n      <th>19167</th>\n      <td>18817</td>\n      <td>10909050.0</td>\n      <td>FORD</td>\n      <td>Transit</td>\n      <td>2003</td>\n      <td>Microbus</td>\n      <td>No</td>\n      <td>Diesel</td>\n      <td>2.4</td>\n      <td>2147483647</td>\n      <td>4.0</td>\n      <td>Manual</td>\n      <td>Front</td>\n      <td>02-Mar</td>\n      <td>Left wheel</td>\n      <td>White</td>\n      <td>2</td>\n      <td>1</td>\n    </tr>\n  </tbody>\n</table>\n</div>"
     },
     "metadata": {},
     "output_type": "display_data"
    },
    {
     "data": {
      "text/plain": "       Price        Levy Manufacturer    Model  Prod_year   Category  \\\n11      8781         0.0         FORD  Transit       1999   Microbus   \n24      4704         0.0         OPEL   Vectra       1995      Sedan   \n26       549  20405050.0        LEXUS   GX 470       2008       Jeep   \n83      8154         0.0        HONDA     Cr-v       1998       Jeep   \n97      4234         0.0        HONDA    Civic       1997  Hatchback   \n...      ...         ...          ...      ...        ...        ...   \n19064   2900         0.0          BMW      320       1994      Sedan   \n19088   2200         0.0      PEUGEOT      406       2001      Sedan   \n19103     30         0.0       NISSAN    Tiida       2006  Hatchback   \n19218     30         0.0       NISSAN     Note       2006  Hatchback   \n19223   8781         0.0        DODGE  Caliber       2008  Hatchback   \n\n      Leather_interior Fuel_type  Engine_volume  Mileage  Cylinders  \\\n11                  No       CNG            4.0        0        8.0   \n24                  No    Petrol            1.8        0        4.0   \n26                 Yes    Petrol            4.7        0        8.0   \n83                  No    Petrol            2.0        0        4.0   \n97                 Yes    Petrol            1.4        0        4.0   \n...                ...       ...            ...      ...        ...   \n19064              Yes    Petrol            2.0        0        6.0   \n19088               No    Petrol            2.0        0        4.0   \n19103               No    Petrol            1.5        0        4.0   \n19218               No    Petrol            1.3        0        4.0   \n19223               No    Petrol            2.4        0        4.0   \n\n      Gear_box_type Drive_wheels   Doors             Wheel  Color  Airbags  \\\n11           Manual         Rear  02-Mar        Left wheel   Blue        0   \n24        Automatic        Front  04-May        Left wheel  Green        4   \n26        Automatic          4x4  04-May        Left wheel  White        0   \n83        Automatic          4x4  04-May  Right-hand drive  White        2   \n97           Manual        Front  02-Mar        Left wheel   Blue        6   \n...             ...          ...     ...               ...    ...      ...   \n19064        Manual         Rear  04-May        Left wheel  Green        2   \n19088        Manual        Front  04-May        Left wheel  White        2   \n19103     Automatic        Front  04-May  Right-hand drive  Black        4   \n19218     Automatic        Front  04-May  Right-hand drive  Green        9   \n19223     Automatic        Front  04-May        Left wheel   Blue        4   \n\n       With_Turbo  \n11              0  \n24              0  \n26              0  \n83              0  \n97              0  \n...           ...  \n19064           0  \n19088           0  \n19103           0  \n19218           0  \n19223           0  \n\n[739 rows x 18 columns]",
      "text/html": "<div>\n<style scoped>\n    .dataframe tbody tr th:only-of-type {\n        vertical-align: middle;\n    }\n\n    .dataframe tbody tr th {\n        vertical-align: top;\n    }\n\n    .dataframe thead th {\n        text-align: right;\n    }\n</style>\n<table border=\"1\" class=\"dataframe\">\n  <thead>\n    <tr style=\"text-align: right;\">\n      <th></th>\n      <th>Price</th>\n      <th>Levy</th>\n      <th>Manufacturer</th>\n      <th>Model</th>\n      <th>Prod_year</th>\n      <th>Category</th>\n      <th>Leather_interior</th>\n      <th>Fuel_type</th>\n      <th>Engine_volume</th>\n      <th>Mileage</th>\n      <th>Cylinders</th>\n      <th>Gear_box_type</th>\n      <th>Drive_wheels</th>\n      <th>Doors</th>\n      <th>Wheel</th>\n      <th>Color</th>\n      <th>Airbags</th>\n      <th>With_Turbo</th>\n    </tr>\n  </thead>\n  <tbody>\n    <tr>\n      <th>11</th>\n      <td>8781</td>\n      <td>0.0</td>\n      <td>FORD</td>\n      <td>Transit</td>\n      <td>1999</td>\n      <td>Microbus</td>\n      <td>No</td>\n      <td>CNG</td>\n      <td>4.0</td>\n      <td>0</td>\n      <td>8.0</td>\n      <td>Manual</td>\n      <td>Rear</td>\n      <td>02-Mar</td>\n      <td>Left wheel</td>\n      <td>Blue</td>\n      <td>0</td>\n      <td>0</td>\n    </tr>\n    <tr>\n      <th>24</th>\n      <td>4704</td>\n      <td>0.0</td>\n      <td>OPEL</td>\n      <td>Vectra</td>\n      <td>1995</td>\n      <td>Sedan</td>\n      <td>No</td>\n      <td>Petrol</td>\n      <td>1.8</td>\n      <td>0</td>\n      <td>4.0</td>\n      <td>Automatic</td>\n      <td>Front</td>\n      <td>04-May</td>\n      <td>Left wheel</td>\n      <td>Green</td>\n      <td>4</td>\n      <td>0</td>\n    </tr>\n    <tr>\n      <th>26</th>\n      <td>549</td>\n      <td>20405050.0</td>\n      <td>LEXUS</td>\n      <td>GX 470</td>\n      <td>2008</td>\n      <td>Jeep</td>\n      <td>Yes</td>\n      <td>Petrol</td>\n      <td>4.7</td>\n      <td>0</td>\n      <td>8.0</td>\n      <td>Automatic</td>\n      <td>4x4</td>\n      <td>04-May</td>\n      <td>Left wheel</td>\n      <td>White</td>\n      <td>0</td>\n      <td>0</td>\n    </tr>\n    <tr>\n      <th>83</th>\n      <td>8154</td>\n      <td>0.0</td>\n      <td>HONDA</td>\n      <td>Cr-v</td>\n      <td>1998</td>\n      <td>Jeep</td>\n      <td>No</td>\n      <td>Petrol</td>\n      <td>2.0</td>\n      <td>0</td>\n      <td>4.0</td>\n      <td>Automatic</td>\n      <td>4x4</td>\n      <td>04-May</td>\n      <td>Right-hand drive</td>\n      <td>White</td>\n      <td>2</td>\n      <td>0</td>\n    </tr>\n    <tr>\n      <th>97</th>\n      <td>4234</td>\n      <td>0.0</td>\n      <td>HONDA</td>\n      <td>Civic</td>\n      <td>1997</td>\n      <td>Hatchback</td>\n      <td>Yes</td>\n      <td>Petrol</td>\n      <td>1.4</td>\n      <td>0</td>\n      <td>4.0</td>\n      <td>Manual</td>\n      <td>Front</td>\n      <td>02-Mar</td>\n      <td>Left wheel</td>\n      <td>Blue</td>\n      <td>6</td>\n      <td>0</td>\n    </tr>\n    <tr>\n      <th>...</th>\n      <td>...</td>\n      <td>...</td>\n      <td>...</td>\n      <td>...</td>\n      <td>...</td>\n      <td>...</td>\n      <td>...</td>\n      <td>...</td>\n      <td>...</td>\n      <td>...</td>\n      <td>...</td>\n      <td>...</td>\n      <td>...</td>\n      <td>...</td>\n      <td>...</td>\n      <td>...</td>\n      <td>...</td>\n      <td>...</td>\n    </tr>\n    <tr>\n      <th>19064</th>\n      <td>2900</td>\n      <td>0.0</td>\n      <td>BMW</td>\n      <td>320</td>\n      <td>1994</td>\n      <td>Sedan</td>\n      <td>Yes</td>\n      <td>Petrol</td>\n      <td>2.0</td>\n      <td>0</td>\n      <td>6.0</td>\n      <td>Manual</td>\n      <td>Rear</td>\n      <td>04-May</td>\n      <td>Left wheel</td>\n      <td>Green</td>\n      <td>2</td>\n      <td>0</td>\n    </tr>\n    <tr>\n      <th>19088</th>\n      <td>2200</td>\n      <td>0.0</td>\n      <td>PEUGEOT</td>\n      <td>406</td>\n      <td>2001</td>\n      <td>Sedan</td>\n      <td>No</td>\n      <td>Petrol</td>\n      <td>2.0</td>\n      <td>0</td>\n      <td>4.0</td>\n      <td>Manual</td>\n      <td>Front</td>\n      <td>04-May</td>\n      <td>Left wheel</td>\n      <td>White</td>\n      <td>2</td>\n      <td>0</td>\n    </tr>\n    <tr>\n      <th>19103</th>\n      <td>30</td>\n      <td>0.0</td>\n      <td>NISSAN</td>\n      <td>Tiida</td>\n      <td>2006</td>\n      <td>Hatchback</td>\n      <td>No</td>\n      <td>Petrol</td>\n      <td>1.5</td>\n      <td>0</td>\n      <td>4.0</td>\n      <td>Automatic</td>\n      <td>Front</td>\n      <td>04-May</td>\n      <td>Right-hand drive</td>\n      <td>Black</td>\n      <td>4</td>\n      <td>0</td>\n    </tr>\n    <tr>\n      <th>19218</th>\n      <td>30</td>\n      <td>0.0</td>\n      <td>NISSAN</td>\n      <td>Note</td>\n      <td>2006</td>\n      <td>Hatchback</td>\n      <td>No</td>\n      <td>Petrol</td>\n      <td>1.3</td>\n      <td>0</td>\n      <td>4.0</td>\n      <td>Automatic</td>\n      <td>Front</td>\n      <td>04-May</td>\n      <td>Right-hand drive</td>\n      <td>Green</td>\n      <td>9</td>\n      <td>0</td>\n    </tr>\n    <tr>\n      <th>19223</th>\n      <td>8781</td>\n      <td>0.0</td>\n      <td>DODGE</td>\n      <td>Caliber</td>\n      <td>2008</td>\n      <td>Hatchback</td>\n      <td>No</td>\n      <td>Petrol</td>\n      <td>2.4</td>\n      <td>0</td>\n      <td>4.0</td>\n      <td>Automatic</td>\n      <td>Front</td>\n      <td>04-May</td>\n      <td>Left wheel</td>\n      <td>Blue</td>\n      <td>4</td>\n      <td>0</td>\n    </tr>\n  </tbody>\n</table>\n<p>739 rows × 18 columns</p>\n</div>"
     },
     "metadata": {},
     "output_type": "display_data"
    }
   ],
   "source": [
    "# Display the entry with the maximum mileage in the dataset\n",
    "display(df[df.Mileage == df.Mileage.max()])\n",
    "display(df[df.Mileage < 1000])"
   ]
  },
  {
   "cell_type": "code",
   "execution_count": 29,
   "id": "42f3732a",
   "metadata": {
    "ExecuteTime": {
     "end_time": "2023-12-08T18:35:45.596059600Z",
     "start_time": "2023-12-08T18:35:45.184742700Z"
    }
   },
   "outputs": [
    {
     "data": {
      "text/plain": "<Figure size 800x600 with 1 Axes>",
      "image/png": "[encoded data removed]"
     },
     "metadata": {},
     "output_type": "display_data"
    }
   ],
   "source": [
    "import matplotlib.pyplot as plt\n",
    "# Set the figure size\n",
    "plt.figure(figsize=(8, 6))  \n",
    "\n",
    "# Create a box plot for Mileage\n",
    "plt.boxplot(df['Mileage'])\n",
    "plt.title(f'Box Plot of Mileage')\n",
    "plt.ylabel('Values')\n",
    "plt.show()"
   ]
  },
  {
   "cell_type": "code",
   "execution_count": 30,
   "id": "0a7537f0",
   "metadata": {
    "ExecuteTime": {
     "end_time": "2023-12-08T18:35:45.614588Z",
     "start_time": "2023-12-08T18:35:45.264631Z"
    }
   },
   "outputs": [],
   "source": [
    "# Function to detect outliers using interquartile method.\n",
    "\n",
    "def detect_outliers(df,features,thold):\n",
    "    outlier_indices = []\n",
    "    \n",
    "    for c in features:\n",
    "        # 1st quartile\n",
    "        Q1 = np.percentile(df[c],25)\n",
    "        # 3rd quartile\n",
    "        Q3 = np.percentile(df[c],75)\n",
    "        # IQR\n",
    "        IQR = Q3 - Q1\n",
    "        # Outlier step\n",
    "        outlier_step = IQR * thold\n",
    "        # Detect outlier and their indeces\n",
    "        outlier_list_col = df[(df[c] < Q1 - outlier_step) | (df[c] > Q3 + outlier_step)].index\n",
    "        # Store indeces\n",
    "        outlier_indices.extend(outlier_list_col)\n",
    "    \n",
    "    \n",
    "    return outlier_indices"
   ]
  },
  {
   "cell_type": "code",
   "execution_count": 31,
   "id": "70f1f492",
   "metadata": {
    "ExecuteTime": {
     "end_time": "2023-12-08T18:35:45.645120800Z",
     "start_time": "2023-12-08T18:35:45.269660900Z"
    }
   },
   "outputs": [
    {
     "data": {
      "text/plain": "       Price      Levy   Manufacturer     Model  Prod_year   Category  \\\n2       8467       0.0          HONDA       FIT       2006  Hatchback   \n3       3607  806020.0           FORD    Escape       2011       Jeep   \n4      11726  404060.0          HONDA       FIT       2014  Hatchback   \n5      39493  809010.0        HYUNDAI  Santa FE       2016       Jeep   \n6       1803  706010.0         TOYOTA     Prius       2010  Hatchback   \n...      ...       ...            ...       ...        ...        ...   \n19230    470  604050.0         TOYOTA     Prius       2011  Hatchback   \n19232   8467       0.0  MERCEDES-BENZ   CLK 200       1999      Coupe   \n19233  15681  803010.0        HYUNDAI    Sonata       2011      Sedan   \n19234  26108  803060.0        HYUNDAI    Tucson       2010       Jeep   \n19236    470  705030.0        HYUNDAI    Sonata       2012      Sedan   \n\n      Leather_interior Fuel_type  Engine_volume  Mileage  Cylinders  \\\n2                   No    Petrol            1.3   200000        4.0   \n3                  Yes    Hybrid            2.5   168966        4.0   \n4                  Yes    Petrol            1.3    91901        4.0   \n5                  Yes    Diesel            2.0   160931        4.0   \n6                  Yes    Hybrid            1.8   258909        4.0   \n...                ...       ...            ...      ...        ...   \n19230              Yes    Hybrid            1.8   307325        4.0   \n19232              Yes       CNG            2.0   300000        4.0   \n19233              Yes    Petrol            2.4   161600        4.0   \n19234              Yes    Diesel            2.0   116365        4.0   \n19236              Yes    Hybrid            2.4   186923        4.0   \n\n      Gear_box_type Drive_wheels   Doors             Wheel   Color  Airbags  \\\n2          Variator        Front  04-May  Right-hand drive   Black        2   \n3         Automatic          4x4  04-May        Left wheel   White        0   \n4         Automatic        Front  04-May        Left wheel  Silver        4   \n5         Automatic        Front  04-May        Left wheel   White        4   \n6         Automatic        Front  04-May        Left wheel   White       12   \n...             ...          ...     ...               ...     ...      ...   \n19230     Automatic        Front  04-May        Left wheel  Silver       12   \n19232        Manual         Rear  02-Mar        Left wheel  Silver        5   \n19233     Tiptronic        Front  04-May        Left wheel     Red        8   \n19234     Automatic        Front  04-May        Left wheel    Grey        4   \n19236     Automatic        Front  04-May        Left wheel   White       12   \n\n       With_Turbo  \n2               0  \n3               0  \n4               0  \n5               0  \n6               0  \n...           ...  \n19230           0  \n19232           1  \n19233           0  \n19234           0  \n19236           0  \n\n[13605 rows x 18 columns]",
      "text/html": "<div>\n<style scoped>\n    .dataframe tbody tr th:only-of-type {\n        vertical-align: middle;\n    }\n\n    .dataframe tbody tr th {\n        vertical-align: top;\n    }\n\n    .dataframe thead th {\n        text-align: right;\n    }\n</style>\n<table border=\"1\" class=\"dataframe\">\n  <thead>\n    <tr style=\"text-align: right;\">\n      <th></th>\n      <th>Price</th>\n      <th>Levy</th>\n      <th>Manufacturer</th>\n      <th>Model</th>\n      <th>Prod_year</th>\n      <th>Category</th>\n      <th>Leather_interior</th>\n      <th>Fuel_type</th>\n      <th>Engine_volume</th>\n      <th>Mileage</th>\n      <th>Cylinders</th>\n      <th>Gear_box_type</th>\n      <th>Drive_wheels</th>\n      <th>Doors</th>\n      <th>Wheel</th>\n      <th>Color</th>\n      <th>Airbags</th>\n      <th>With_Turbo</th>\n    </tr>\n  </thead>\n  <tbody>\n    <tr>\n      <th>2</th>\n      <td>8467</td>\n      <td>0.0</td>\n      <td>HONDA</td>\n      <td>FIT</td>\n      <td>2006</td>\n      <td>Hatchback</td>\n      <td>No</td>\n      <td>Petrol</td>\n      <td>1.3</td>\n      <td>200000</td>\n      <td>4.0</td>\n      <td>Variator</td>\n      <td>Front</td>\n      <td>04-May</td>\n      <td>Right-hand drive</td>\n      <td>Black</td>\n      <td>2</td>\n      <td>0</td>\n    </tr>\n    <tr>\n      <th>3</th>\n      <td>3607</td>\n      <td>806020.0</td>\n      <td>FORD</td>\n      <td>Escape</td>\n      <td>2011</td>\n      <td>Jeep</td>\n      <td>Yes</td>\n      <td>Hybrid</td>\n      <td>2.5</td>\n      <td>168966</td>\n      <td>4.0</td>\n      <td>Automatic</td>\n      <td>4x4</td>\n      <td>04-May</td>\n      <td>Left wheel</td>\n      <td>White</td>\n      <td>0</td>\n      <td>0</td>\n    </tr>\n    <tr>\n      <th>4</th>\n      <td>11726</td>\n      <td>404060.0</td>\n      <td>HONDA</td>\n      <td>FIT</td>\n      <td>2014</td>\n      <td>Hatchback</td>\n      <td>Yes</td>\n      <td>Petrol</td>\n      <td>1.3</td>\n      <td>91901</td>\n      <td>4.0</td>\n      <td>Automatic</td>\n      <td>Front</td>\n      <td>04-May</td>\n      <td>Left wheel</td>\n      <td>Silver</td>\n      <td>4</td>\n      <td>0</td>\n    </tr>\n    <tr>\n      <th>5</th>\n      <td>39493</td>\n      <td>809010.0</td>\n      <td>HYUNDAI</td>\n      <td>Santa FE</td>\n      <td>2016</td>\n      <td>Jeep</td>\n      <td>Yes</td>\n      <td>Diesel</td>\n      <td>2.0</td>\n      <td>160931</td>\n      <td>4.0</td>\n      <td>Automatic</td>\n      <td>Front</td>\n      <td>04-May</td>\n      <td>Left wheel</td>\n      <td>White</td>\n      <td>4</td>\n      <td>0</td>\n    </tr>\n    <tr>\n      <th>6</th>\n      <td>1803</td>\n      <td>706010.0</td>\n      <td>TOYOTA</td>\n      <td>Prius</td>\n      <td>2010</td>\n      <td>Hatchback</td>\n      <td>Yes</td>\n      <td>Hybrid</td>\n      <td>1.8</td>\n      <td>258909</td>\n      <td>4.0</td>\n      <td>Automatic</td>\n      <td>Front</td>\n      <td>04-May</td>\n      <td>Left wheel</td>\n      <td>White</td>\n      <td>12</td>\n      <td>0</td>\n    </tr>\n    <tr>\n      <th>...</th>\n      <td>...</td>\n      <td>...</td>\n      <td>...</td>\n      <td>...</td>\n      <td>...</td>\n      <td>...</td>\n      <td>...</td>\n      <td>...</td>\n      <td>...</td>\n      <td>...</td>\n      <td>...</td>\n      <td>...</td>\n      <td>...</td>\n      <td>...</td>\n      <td>...</td>\n      <td>...</td>\n      <td>...</td>\n      <td>...</td>\n    </tr>\n    <tr>\n      <th>19230</th>\n      <td>470</td>\n      <td>604050.0</td>\n      <td>TOYOTA</td>\n      <td>Prius</td>\n      <td>2011</td>\n      <td>Hatchback</td>\n      <td>Yes</td>\n      <td>Hybrid</td>\n      <td>1.8</td>\n      <td>307325</td>\n      <td>4.0</td>\n      <td>Automatic</td>\n      <td>Front</td>\n      <td>04-May</td>\n      <td>Left wheel</td>\n      <td>Silver</td>\n      <td>12</td>\n      <td>0</td>\n    </tr>\n    <tr>\n      <th>19232</th>\n      <td>8467</td>\n      <td>0.0</td>\n      <td>MERCEDES-BENZ</td>\n      <td>CLK 200</td>\n      <td>1999</td>\n      <td>Coupe</td>\n      <td>Yes</td>\n      <td>CNG</td>\n      <td>2.0</td>\n      <td>300000</td>\n      <td>4.0</td>\n      <td>Manual</td>\n      <td>Rear</td>\n      <td>02-Mar</td>\n      <td>Left wheel</td>\n      <td>Silver</td>\n      <td>5</td>\n      <td>1</td>\n    </tr>\n    <tr>\n      <th>19233</th>\n      <td>15681</td>\n      <td>803010.0</td>\n      <td>HYUNDAI</td>\n      <td>Sonata</td>\n      <td>2011</td>\n      <td>Sedan</td>\n      <td>Yes</td>\n      <td>Petrol</td>\n      <td>2.4</td>\n      <td>161600</td>\n      <td>4.0</td>\n      <td>Tiptronic</td>\n      <td>Front</td>\n      <td>04-May</td>\n      <td>Left wheel</td>\n      <td>Red</td>\n      <td>8</td>\n      <td>0</td>\n    </tr>\n    <tr>\n      <th>19234</th>\n      <td>26108</td>\n      <td>803060.0</td>\n      <td>HYUNDAI</td>\n      <td>Tucson</td>\n      <td>2010</td>\n      <td>Jeep</td>\n      <td>Yes</td>\n      <td>Diesel</td>\n      <td>2.0</td>\n      <td>116365</td>\n      <td>4.0</td>\n      <td>Automatic</td>\n      <td>Front</td>\n      <td>04-May</td>\n      <td>Left wheel</td>\n      <td>Grey</td>\n      <td>4</td>\n      <td>0</td>\n    </tr>\n    <tr>\n      <th>19236</th>\n      <td>470</td>\n      <td>705030.0</td>\n      <td>HYUNDAI</td>\n      <td>Sonata</td>\n      <td>2012</td>\n      <td>Sedan</td>\n      <td>Yes</td>\n      <td>Hybrid</td>\n      <td>2.4</td>\n      <td>186923</td>\n      <td>4.0</td>\n      <td>Automatic</td>\n      <td>Front</td>\n      <td>04-May</td>\n      <td>Left wheel</td>\n      <td>White</td>\n      <td>12</td>\n      <td>0</td>\n    </tr>\n  </tbody>\n</table>\n<p>13605 rows × 18 columns</p>\n</div>"
     },
     "execution_count": 31,
     "metadata": {},
     "output_type": "execute_result"
    }
   ],
   "source": [
    "# Features to perform outliers check\n",
    "features = ['Price', 'Levy', 'Mileage']\n",
    "\n",
    "# Get index of outliers\n",
    "outliers = detect_outliers(df,features, 1.5)\n",
    "\n",
    "# Remove outliers\n",
    "df = df.drop(df.loc[outliers].index,axis=0)\n",
    "df"
   ]
  },
  {
   "cell_type": "code",
   "execution_count": 32,
   "id": "7efe3d09",
   "metadata": {
    "ExecuteTime": {
     "end_time": "2023-12-08T18:35:45.692933200Z",
     "start_time": "2023-12-08T18:35:45.292035800Z"
    }
   },
   "outputs": [
    {
     "data": {
      "text/plain": "       Price      Levy Manufacturer Model  Prod_year Category  \\\n12252  47120  609040.0       JAGUAR    XF       2014    Sedan   \n\n      Leather_interior Fuel_type  Engine_volume  Mileage  Cylinders  \\\n12252              Yes    Diesel            2.2   122172        4.0   \n\n      Gear_box_type Drive_wheels   Doors       Wheel  Color  Airbags  \\\n12252     Automatic        Front  04-May  Left wheel  Black        4   \n\n       With_Turbo  \n12252           0  ",
      "text/html": "<div>\n<style scoped>\n    .dataframe tbody tr th:only-of-type {\n        vertical-align: middle;\n    }\n\n    .dataframe tbody tr th {\n        vertical-align: top;\n    }\n\n    .dataframe thead th {\n        text-align: right;\n    }\n</style>\n<table border=\"1\" class=\"dataframe\">\n  <thead>\n    <tr style=\"text-align: right;\">\n      <th></th>\n      <th>Price</th>\n      <th>Levy</th>\n      <th>Manufacturer</th>\n      <th>Model</th>\n      <th>Prod_year</th>\n      <th>Category</th>\n      <th>Leather_interior</th>\n      <th>Fuel_type</th>\n      <th>Engine_volume</th>\n      <th>Mileage</th>\n      <th>Cylinders</th>\n      <th>Gear_box_type</th>\n      <th>Drive_wheels</th>\n      <th>Doors</th>\n      <th>Wheel</th>\n      <th>Color</th>\n      <th>Airbags</th>\n      <th>With_Turbo</th>\n    </tr>\n  </thead>\n  <tbody>\n    <tr>\n      <th>12252</th>\n      <td>47120</td>\n      <td>609040.0</td>\n      <td>JAGUAR</td>\n      <td>XF</td>\n      <td>2014</td>\n      <td>Sedan</td>\n      <td>Yes</td>\n      <td>Diesel</td>\n      <td>2.2</td>\n      <td>122172</td>\n      <td>4.0</td>\n      <td>Automatic</td>\n      <td>Front</td>\n      <td>04-May</td>\n      <td>Left wheel</td>\n      <td>Black</td>\n      <td>4</td>\n      <td>0</td>\n    </tr>\n  </tbody>\n</table>\n</div>"
     },
     "metadata": {},
     "output_type": "display_data"
    },
    {
     "data": {
      "text/plain": "       Price      Levy Manufacturer     Model  Prod_year   Category  \\\n7        549  705010.0      HYUNDAI    Sonata       2013      Sedan   \n27        30       0.0       TOYOTA     Prius       2008      Sedan   \n58       392  901090.0          BMW       535       2012      Sedan   \n68       314  707090.0       TOYOTA     Camry       2013      Sedan   \n92       549  708010.0       SUBARU  Forester       2012       Jeep   \n...      ...       ...          ...       ...        ...        ...   \n19215    470  803010.0      HYUNDAI   Elantra       2017      Sedan   \n19218     30       0.0       NISSAN      Note       2006  Hatchback   \n19229     50       0.0       TOYOTA     Prius       2008  Hatchback   \n19230    470  604050.0       TOYOTA     Prius       2011  Hatchback   \n19236    470  705030.0      HYUNDAI    Sonata       2012      Sedan   \n\n      Leather_interior Fuel_type  Engine_volume  Mileage  Cylinders  \\\n7                  Yes    Petrol            2.4   216118        4.0   \n27                  No    Hybrid            1.5   169000        4.0   \n58                 Yes    Petrol            3.0   204318        6.0   \n68                 Yes    Hybrid            2.5   225510        4.0   \n92                 Yes    Petrol            2.5   148213        4.0   \n...                ...       ...            ...      ...        ...   \n19215              Yes    Petrol            1.6    25635        4.0   \n19218               No    Petrol            1.3        0        4.0   \n19229               No    Hybrid            1.5   150000        4.0   \n19230              Yes    Hybrid            1.8   307325        4.0   \n19236              Yes    Hybrid            2.4   186923        4.0   \n\n      Gear_box_type Drive_wheels   Doors             Wheel   Color  Airbags  \\\n7         Automatic        Front  04-May        Left wheel    Grey       12   \n27        Automatic        Front  04-May        Left wheel   White        8   \n58        Automatic         Rear  04-May        Left wheel   Black       12   \n68        Automatic        Front  04-May        Left wheel   White       12   \n92        Automatic          4x4  04-May        Left wheel    Blue        0   \n...             ...          ...     ...               ...     ...      ...   \n19215     Automatic        Front  04-May        Left wheel   Black       12   \n19218     Automatic        Front  04-May  Right-hand drive   Green        9   \n19229     Automatic        Front  04-May        Left wheel  Silver        6   \n19230     Automatic        Front  04-May        Left wheel  Silver       12   \n19236     Automatic        Front  04-May        Left wheel   White       12   \n\n       With_Turbo  \n7               0  \n27              0  \n58              0  \n68              0  \n92              0  \n...           ...  \n19215           0  \n19218           0  \n19229           0  \n19230           0  \n19236           0  \n\n[1490 rows x 18 columns]",
      "text/html": "<div>\n<style scoped>\n    .dataframe tbody tr th:only-of-type {\n        vertical-align: middle;\n    }\n\n    .dataframe tbody tr th {\n        vertical-align: top;\n    }\n\n    .dataframe thead th {\n        text-align: right;\n    }\n</style>\n<table border=\"1\" class=\"dataframe\">\n  <thead>\n    <tr style=\"text-align: right;\">\n      <th></th>\n      <th>Price</th>\n      <th>Levy</th>\n      <th>Manufacturer</th>\n      <th>Model</th>\n      <th>Prod_year</th>\n      <th>Category</th>\n      <th>Leather_interior</th>\n      <th>Fuel_type</th>\n      <th>Engine_volume</th>\n      <th>Mileage</th>\n      <th>Cylinders</th>\n      <th>Gear_box_type</th>\n      <th>Drive_wheels</th>\n      <th>Doors</th>\n      <th>Wheel</th>\n      <th>Color</th>\n      <th>Airbags</th>\n      <th>With_Turbo</th>\n    </tr>\n  </thead>\n  <tbody>\n    <tr>\n      <th>7</th>\n      <td>549</td>\n      <td>705010.0</td>\n      <td>HYUNDAI</td>\n      <td>Sonata</td>\n      <td>2013</td>\n      <td>Sedan</td>\n      <td>Yes</td>\n      <td>Petrol</td>\n      <td>2.4</td>\n      <td>216118</td>\n      <td>4.0</td>\n      <td>Automatic</td>\n      <td>Front</td>\n      <td>04-May</td>\n      <td>Left wheel</td>\n      <td>Grey</td>\n      <td>12</td>\n      <td>0</td>\n    </tr>\n    <tr>\n      <th>27</th>\n      <td>30</td>\n      <td>0.0</td>\n      <td>TOYOTA</td>\n      <td>Prius</td>\n      <td>2008</td>\n      <td>Sedan</td>\n      <td>No</td>\n      <td>Hybrid</td>\n      <td>1.5</td>\n      <td>169000</td>\n      <td>4.0</td>\n      <td>Automatic</td>\n      <td>Front</td>\n      <td>04-May</td>\n      <td>Left wheel</td>\n      <td>White</td>\n      <td>8</td>\n      <td>0</td>\n    </tr>\n    <tr>\n      <th>58</th>\n      <td>392</td>\n      <td>901090.0</td>\n      <td>BMW</td>\n      <td>535</td>\n      <td>2012</td>\n      <td>Sedan</td>\n      <td>Yes</td>\n      <td>Petrol</td>\n      <td>3.0</td>\n      <td>204318</td>\n      <td>6.0</td>\n      <td>Automatic</td>\n      <td>Rear</td>\n      <td>04-May</td>\n      <td>Left wheel</td>\n      <td>Black</td>\n      <td>12</td>\n      <td>0</td>\n    </tr>\n    <tr>\n      <th>68</th>\n      <td>314</td>\n      <td>707090.0</td>\n      <td>TOYOTA</td>\n      <td>Camry</td>\n      <td>2013</td>\n      <td>Sedan</td>\n      <td>Yes</td>\n      <td>Hybrid</td>\n      <td>2.5</td>\n      <td>225510</td>\n      <td>4.0</td>\n      <td>Automatic</td>\n      <td>Front</td>\n      <td>04-May</td>\n      <td>Left wheel</td>\n      <td>White</td>\n      <td>12</td>\n      <td>0</td>\n    </tr>\n    <tr>\n      <th>92</th>\n      <td>549</td>\n      <td>708010.0</td>\n      <td>SUBARU</td>\n      <td>Forester</td>\n      <td>2012</td>\n      <td>Jeep</td>\n      <td>Yes</td>\n      <td>Petrol</td>\n      <td>2.5</td>\n      <td>148213</td>\n      <td>4.0</td>\n      <td>Automatic</td>\n      <td>4x4</td>\n      <td>04-May</td>\n      <td>Left wheel</td>\n      <td>Blue</td>\n      <td>0</td>\n      <td>0</td>\n    </tr>\n    <tr>\n      <th>...</th>\n      <td>...</td>\n      <td>...</td>\n      <td>...</td>\n      <td>...</td>\n      <td>...</td>\n      <td>...</td>\n      <td>...</td>\n      <td>...</td>\n      <td>...</td>\n      <td>...</td>\n      <td>...</td>\n      <td>...</td>\n      <td>...</td>\n      <td>...</td>\n      <td>...</td>\n      <td>...</td>\n      <td>...</td>\n      <td>...</td>\n    </tr>\n    <tr>\n      <th>19215</th>\n      <td>470</td>\n      <td>803010.0</td>\n      <td>HYUNDAI</td>\n      <td>Elantra</td>\n      <td>2017</td>\n      <td>Sedan</td>\n      <td>Yes</td>\n      <td>Petrol</td>\n      <td>1.6</td>\n      <td>25635</td>\n      <td>4.0</td>\n      <td>Automatic</td>\n      <td>Front</td>\n      <td>04-May</td>\n      <td>Left wheel</td>\n      <td>Black</td>\n      <td>12</td>\n      <td>0</td>\n    </tr>\n    <tr>\n      <th>19218</th>\n      <td>30</td>\n      <td>0.0</td>\n      <td>NISSAN</td>\n      <td>Note</td>\n      <td>2006</td>\n      <td>Hatchback</td>\n      <td>No</td>\n      <td>Petrol</td>\n      <td>1.3</td>\n      <td>0</td>\n      <td>4.0</td>\n      <td>Automatic</td>\n      <td>Front</td>\n      <td>04-May</td>\n      <td>Right-hand drive</td>\n      <td>Green</td>\n      <td>9</td>\n      <td>0</td>\n    </tr>\n    <tr>\n      <th>19229</th>\n      <td>50</td>\n      <td>0.0</td>\n      <td>TOYOTA</td>\n      <td>Prius</td>\n      <td>2008</td>\n      <td>Hatchback</td>\n      <td>No</td>\n      <td>Hybrid</td>\n      <td>1.5</td>\n      <td>150000</td>\n      <td>4.0</td>\n      <td>Automatic</td>\n      <td>Front</td>\n      <td>04-May</td>\n      <td>Left wheel</td>\n      <td>Silver</td>\n      <td>6</td>\n      <td>0</td>\n    </tr>\n    <tr>\n      <th>19230</th>\n      <td>470</td>\n      <td>604050.0</td>\n      <td>TOYOTA</td>\n      <td>Prius</td>\n      <td>2011</td>\n      <td>Hatchback</td>\n      <td>Yes</td>\n      <td>Hybrid</td>\n      <td>1.8</td>\n      <td>307325</td>\n      <td>4.0</td>\n      <td>Automatic</td>\n      <td>Front</td>\n      <td>04-May</td>\n      <td>Left wheel</td>\n      <td>Silver</td>\n      <td>12</td>\n      <td>0</td>\n    </tr>\n    <tr>\n      <th>19236</th>\n      <td>470</td>\n      <td>705030.0</td>\n      <td>HYUNDAI</td>\n      <td>Sonata</td>\n      <td>2012</td>\n      <td>Sedan</td>\n      <td>Yes</td>\n      <td>Hybrid</td>\n      <td>2.4</td>\n      <td>186923</td>\n      <td>4.0</td>\n      <td>Automatic</td>\n      <td>Front</td>\n      <td>04-May</td>\n      <td>Left wheel</td>\n      <td>White</td>\n      <td>12</td>\n      <td>0</td>\n    </tr>\n  </tbody>\n</table>\n<p>1490 rows × 18 columns</p>\n</div>"
     },
     "metadata": {},
     "output_type": "display_data"
    }
   ],
   "source": [
    "display(df[df.Price == df.Price.max()])\n",
    "display(df[df.Price < 1000])"
   ]
  },
  {
   "cell_type": "code",
   "execution_count": 33,
   "id": "23d400ff",
   "metadata": {
    "ExecuteTime": {
     "end_time": "2023-12-08T18:35:45.693935Z",
     "start_time": "2023-12-08T18:35:45.317905700Z"
    }
   },
   "outputs": [
    {
     "data": {
      "text/plain": "(13605, 18)"
     },
     "execution_count": 33,
     "metadata": {},
     "output_type": "execute_result"
    }
   ],
   "source": [
    "df.shape"
   ]
  },
  {
   "cell_type": "markdown",
   "id": "cebdcac8",
   "metadata": {},
   "source": [
    "## 10. Encoding"
   ]
  },
  {
   "cell_type": "code",
   "execution_count": 34,
   "id": "1b16436d",
   "metadata": {
    "ExecuteTime": {
     "end_time": "2023-12-08T18:35:45.693935Z",
     "start_time": "2023-12-08T18:35:45.325278300Z"
    }
   },
   "outputs": [
    {
     "data": {
      "text/plain": "  Doors Wheel Drive_wheels Gear_box_type Leather_interior\n2     1     2            1             4                2\n3     1     1            2             1                1\n4     1     1            1             1                1\n5     1     1            1             1                1\n6     1     1            1             1                1",
      "text/html": "<div>\n<style scoped>\n    .dataframe tbody tr th:only-of-type {\n        vertical-align: middle;\n    }\n\n    .dataframe tbody tr th {\n        vertical-align: top;\n    }\n\n    .dataframe thead th {\n        text-align: right;\n    }\n</style>\n<table border=\"1\" class=\"dataframe\">\n  <thead>\n    <tr style=\"text-align: right;\">\n      <th></th>\n      <th>Doors</th>\n      <th>Wheel</th>\n      <th>Drive_wheels</th>\n      <th>Gear_box_type</th>\n      <th>Leather_interior</th>\n    </tr>\n  </thead>\n  <tbody>\n    <tr>\n      <th>2</th>\n      <td>1</td>\n      <td>2</td>\n      <td>1</td>\n      <td>4</td>\n      <td>2</td>\n    </tr>\n    <tr>\n      <th>3</th>\n      <td>1</td>\n      <td>1</td>\n      <td>2</td>\n      <td>1</td>\n      <td>1</td>\n    </tr>\n    <tr>\n      <th>4</th>\n      <td>1</td>\n      <td>1</td>\n      <td>1</td>\n      <td>1</td>\n      <td>1</td>\n    </tr>\n    <tr>\n      <th>5</th>\n      <td>1</td>\n      <td>1</td>\n      <td>1</td>\n      <td>1</td>\n      <td>1</td>\n    </tr>\n    <tr>\n      <th>6</th>\n      <td>1</td>\n      <td>1</td>\n      <td>1</td>\n      <td>1</td>\n      <td>1</td>\n    </tr>\n  </tbody>\n</table>\n</div>"
     },
     "execution_count": 34,
     "metadata": {},
     "output_type": "execute_result"
    }
   ],
   "source": [
    "# Peform endcoding on Doors, Wheel, Drive_wheels, Gear_box_type and\n",
    "# Leather_interior\n",
    "\n",
    "# Replace values in the 'Doors' column\n",
    "# 04-May' is replaced with 1, '02-Mar' is replaced with 2, and '>5'\n",
    "# is replaced with 3\n",
    "df['Doors'].replace(['04-May', '02-Mar',\">5\"],\n",
    "                        [1, 2, 3], inplace=True)\n",
    "\n",
    "# Replace values in the 'Wheel' column\n",
    "# 'Left wheel' is replaced with 1, 'Right-hand drive' is replaced with 2\n",
    "df['Wheel'].replace(['Left wheel', 'Right-hand drive'],\n",
    "                        [1, 2], inplace=True)\n",
    "\n",
    "# Replace values in the 'Drive_wheels' column 'Front' is replaced with 1,\n",
    "# '4x4' is replaced with 2, 'Rear' is replaced with 3\n",
    "df['Drive_wheels'].replace(['Front', '4x4',\"Rear\"],\n",
    "                        [1, 2, 3], inplace=True)\n",
    "\n",
    "# Replace values in the 'Gear_box_type' column 'Automatic' is replaced with\n",
    "# 1, 'Tiptronic' is replaced with 2, 'Manual' is replaced with 3, 'Variator'\n",
    "# is replaced with 4\n",
    "\n",
    "df['Gear_box_type'].replace(['Automatic', 'Tiptronic',\"Manual\",\"Variator\"],\n",
    "                        [1, 2, 3 , 4], inplace=True)\n",
    "\n",
    "\n",
    "# Replace values in the 'Leather_interior' column 'Yes' is replaced with 1,\n",
    "# 'No' is replaced with 2\n",
    "\n",
    "df['Leather_interior'].replace(['Yes', 'No'],\n",
    "                        [1, 2], inplace=True)\n",
    "\n",
    "encoded_cols=['Doors', 'Wheel', 'Drive_wheels', 'Gear_box_type', 'Leather_interior' ]\n",
    "df[encoded_cols].head(5)"
   ]
  },
  {
   "cell_type": "markdown",
   "id": "cf7776d4",
   "metadata": {},
   "source": [
    "## 11. Scaling"
   ]
  },
  {
   "cell_type": "code",
   "execution_count": 35,
   "id": "34fea51d",
   "metadata": {
    "ExecuteTime": {
     "end_time": "2023-12-08T18:35:45.694933500Z",
     "start_time": "2023-12-08T18:35:45.340856600Z"
    }
   },
   "outputs": [
    {
     "name": "stdout",
     "output_type": "stream",
     "text": [
      "[[0.54495913]\n",
      " [0.46039782]\n",
      " [0.25041144]\n",
      " ...\n",
      " [0.44032698]\n",
      " [0.31707084]\n",
      " [0.50932698]]\n",
      "[[0.        ]\n",
      " [0.88664239]\n",
      " [0.44447622]\n",
      " ...\n",
      " [0.88333132]\n",
      " [0.88338632]\n",
      " [0.77555084]]\n"
     ]
    },
    {
     "data": {
      "text/plain": "       Levy   Mileage\n2  0.000000  0.544959\n3  0.886642  0.460398\n4  0.444476  0.250411\n5  0.889931  0.438504\n6  0.776629  0.705474",
      "text/html": "<div>\n<style scoped>\n    .dataframe tbody tr th:only-of-type {\n        vertical-align: middle;\n    }\n\n    .dataframe tbody tr th {\n        vertical-align: top;\n    }\n\n    .dataframe thead th {\n        text-align: right;\n    }\n</style>\n<table border=\"1\" class=\"dataframe\">\n  <thead>\n    <tr style=\"text-align: right;\">\n      <th></th>\n      <th>Levy</th>\n      <th>Mileage</th>\n    </tr>\n  </thead>\n  <tbody>\n    <tr>\n      <th>2</th>\n      <td>0.000000</td>\n      <td>0.544959</td>\n    </tr>\n    <tr>\n      <th>3</th>\n      <td>0.886642</td>\n      <td>0.460398</td>\n    </tr>\n    <tr>\n      <th>4</th>\n      <td>0.444476</td>\n      <td>0.250411</td>\n    </tr>\n    <tr>\n      <th>5</th>\n      <td>0.889931</td>\n      <td>0.438504</td>\n    </tr>\n    <tr>\n      <th>6</th>\n      <td>0.776629</td>\n      <td>0.705474</td>\n    </tr>\n  </tbody>\n</table>\n</div>"
     },
     "execution_count": 35,
     "metadata": {},
     "output_type": "execute_result"
    }
   ],
   "source": [
    "# Create instance of  MinMaxScaler\n",
    "scale = MinMaxScaler()\n",
    "\n",
    "# Reshape the 'Levy' and 'Mileage' columns to be compatible with the scaler\n",
    "X2 = df[\"Levy\"].values.reshape(-1, 1)\n",
    "X = df[\"Mileage\"].values.reshape(-1, 1)\n",
    "\n",
    "# Use Min-Max scaling to scale the 'Mileage' and 'Levy' columns \n",
    "scaledX = scale.fit_transform(X)\n",
    "scaledX2 = scale.fit_transform(X2)\n",
    "\n",
    "# Scaled values for 'Mileage' and 'Levy'\n",
    "print(scaledX)\n",
    "print(scaledX2)\n",
    "\n",
    "# Update the 'Mileage' and 'Levy' columns in the DataFrame with the scaled values\n",
    "df[\"Mileage\"] = scaledX\n",
    "df[\"Levy\"] = scaledX2\n",
    "\n",
    "\n",
    "df[['Levy','Mileage']].head(5)"
   ]
  },
  {
   "cell_type": "code",
   "execution_count": 36,
   "id": "23130d5b",
   "metadata": {
    "ExecuteTime": {
     "end_time": "2023-12-08T18:35:45.695935300Z",
     "start_time": "2023-12-08T18:35:45.350407700Z"
    }
   },
   "outputs": [
    {
     "data": {
      "text/plain": "Index(['Price', 'Levy', 'Manufacturer', 'Model', 'Prod_year', 'Category',\n       'Leather_interior', 'Fuel_type', 'Engine_volume', 'Mileage',\n       'Cylinders', 'Gear_box_type', 'Drive_wheels', 'Doors', 'Wheel', 'Color',\n       'Airbags', 'With_Turbo'],\n      dtype='object')"
     },
     "execution_count": 36,
     "metadata": {},
     "output_type": "execute_result"
    }
   ],
   "source": [
    "# print the columns\n",
    "df.columns"
   ]
  },
  {
   "cell_type": "code",
   "execution_count": 37,
   "outputs": [
    {
     "data": {
      "text/plain": "                         2         3          4         5          6   \\\nPrice                  8467      3607      11726     39493       1803   \nLevy                    0.0  0.886642   0.444476  0.889931   0.776629   \nManufacturer          HONDA      FORD      HONDA   HYUNDAI     TOYOTA   \nModel                   FIT    Escape        FIT  Santa FE      Prius   \nProd_year              2006      2011       2014      2016       2010   \nCategory          Hatchback      Jeep  Hatchback      Jeep  Hatchback   \nLeather_interior          2         1          1         1          1   \nFuel_type            Petrol    Hybrid     Petrol    Diesel     Hybrid   \nEngine_volume           1.3       2.5        1.3       2.0        1.8   \nMileage            0.544959  0.460398   0.250411  0.438504   0.705474   \nCylinders               4.0       4.0        4.0       4.0        4.0   \nGear_box_type             4         1          1         1          1   \nDrive_wheels              1         2          1         1          1   \nDoors                     1         1          1         1          1   \nWheel                     2         1          1         1          1   \nColor                 Black     White     Silver     White      White   \nAirbags                   2         0          4         4         12   \nWith_Turbo                0         0          0         0          0   \n\n                        7         9         11           12        16  \nPrice                  549     26657      8781         3000      7683  \nLevy              0.775529       0.0       0.0          0.0   0.88112  \nManufacturer       HYUNDAI     LEXUS      FORD         OPEL   HYUNDAI  \nModel               Sonata    RX 350   Transit       Vectra   Elantra  \nProd_year             2013      2007      1999         1997      2016  \nCategory             Sedan      Jeep  Microbus  Goods wagon     Sedan  \nLeather_interior         1         1         2            2         1  \nFuel_type           Petrol    Petrol       CNG          CNG    Petrol  \nEngine_volume          2.4       3.5       4.0          1.6       1.8  \nMileage           0.588877  0.350136       0.0     0.953678  0.331989  \nCylinders              4.0       6.0       8.0          4.0       4.0  \nGear_box_type            1         1         3            3         1  \nDrive_wheels             1         2         3            1         1  \nDoors                    1         1         2            1         1  \nWheel                    1         1         1            1         1  \nColor                 Grey    Silver      Blue        White      Blue  \nAirbags                 12        12         0            4        12  \nWith_Turbo               0         0         0            0         0  ",
      "text/html": "<div>\n<style scoped>\n    .dataframe tbody tr th:only-of-type {\n        vertical-align: middle;\n    }\n\n    .dataframe tbody tr th {\n        vertical-align: top;\n    }\n\n    .dataframe thead th {\n        text-align: right;\n    }\n</style>\n<table border=\"1\" class=\"dataframe\">\n  <thead>\n    <tr style=\"text-align: right;\">\n      <th></th>\n      <th>2</th>\n      <th>3</th>\n      <th>4</th>\n      <th>5</th>\n      <th>6</th>\n      <th>7</th>\n      <th>9</th>\n      <th>11</th>\n      <th>12</th>\n      <th>16</th>\n    </tr>\n  </thead>\n  <tbody>\n    <tr>\n      <th>Price</th>\n      <td>8467</td>\n      <td>3607</td>\n      <td>11726</td>\n      <td>39493</td>\n      <td>1803</td>\n      <td>549</td>\n      <td>26657</td>\n      <td>8781</td>\n      <td>3000</td>\n      <td>7683</td>\n    </tr>\n    <tr>\n      <th>Levy</th>\n      <td>0.0</td>\n      <td>0.886642</td>\n      <td>0.444476</td>\n      <td>0.889931</td>\n      <td>0.776629</td>\n      <td>0.775529</td>\n      <td>0.0</td>\n      <td>0.0</td>\n      <td>0.0</td>\n      <td>0.88112</td>\n    </tr>\n    <tr>\n      <th>Manufacturer</th>\n      <td>HONDA</td>\n      <td>FORD</td>\n      <td>HONDA</td>\n      <td>HYUNDAI</td>\n      <td>TOYOTA</td>\n      <td>HYUNDAI</td>\n      <td>LEXUS</td>\n      <td>FORD</td>\n      <td>OPEL</td>\n      <td>HYUNDAI</td>\n    </tr>\n    <tr>\n      <th>Model</th>\n      <td>FIT</td>\n      <td>Escape</td>\n      <td>FIT</td>\n      <td>Santa FE</td>\n      <td>Prius</td>\n      <td>Sonata</td>\n      <td>RX 350</td>\n      <td>Transit</td>\n      <td>Vectra</td>\n      <td>Elantra</td>\n    </tr>\n    <tr>\n      <th>Prod_year</th>\n      <td>2006</td>\n      <td>2011</td>\n      <td>2014</td>\n      <td>2016</td>\n      <td>2010</td>\n      <td>2013</td>\n      <td>2007</td>\n      <td>1999</td>\n      <td>1997</td>\n      <td>2016</td>\n    </tr>\n    <tr>\n      <th>Category</th>\n      <td>Hatchback</td>\n      <td>Jeep</td>\n      <td>Hatchback</td>\n      <td>Jeep</td>\n      <td>Hatchback</td>\n      <td>Sedan</td>\n      <td>Jeep</td>\n      <td>Microbus</td>\n      <td>Goods wagon</td>\n      <td>Sedan</td>\n    </tr>\n    <tr>\n      <th>Leather_interior</th>\n      <td>2</td>\n      <td>1</td>\n      <td>1</td>\n      <td>1</td>\n      <td>1</td>\n      <td>1</td>\n      <td>1</td>\n      <td>2</td>\n      <td>2</td>\n      <td>1</td>\n    </tr>\n    <tr>\n      <th>Fuel_type</th>\n      <td>Petrol</td>\n      <td>Hybrid</td>\n      <td>Petrol</td>\n      <td>Diesel</td>\n      <td>Hybrid</td>\n      <td>Petrol</td>\n      <td>Petrol</td>\n      <td>CNG</td>\n      <td>CNG</td>\n      <td>Petrol</td>\n    </tr>\n    <tr>\n      <th>Engine_volume</th>\n      <td>1.3</td>\n      <td>2.5</td>\n      <td>1.3</td>\n      <td>2.0</td>\n      <td>1.8</td>\n      <td>2.4</td>\n      <td>3.5</td>\n      <td>4.0</td>\n      <td>1.6</td>\n      <td>1.8</td>\n    </tr>\n    <tr>\n      <th>Mileage</th>\n      <td>0.544959</td>\n      <td>0.460398</td>\n      <td>0.250411</td>\n      <td>0.438504</td>\n      <td>0.705474</td>\n      <td>0.588877</td>\n      <td>0.350136</td>\n      <td>0.0</td>\n      <td>0.953678</td>\n      <td>0.331989</td>\n    </tr>\n    <tr>\n      <th>Cylinders</th>\n      <td>4.0</td>\n      <td>4.0</td>\n      <td>4.0</td>\n      <td>4.0</td>\n      <td>4.0</td>\n      <td>4.0</td>\n      <td>6.0</td>\n      <td>8.0</td>\n      <td>4.0</td>\n      <td>4.0</td>\n    </tr>\n    <tr>\n      <th>Gear_box_type</th>\n      <td>4</td>\n      <td>1</td>\n      <td>1</td>\n      <td>1</td>\n      <td>1</td>\n      <td>1</td>\n      <td>1</td>\n      <td>3</td>\n      <td>3</td>\n      <td>1</td>\n    </tr>\n    <tr>\n      <th>Drive_wheels</th>\n      <td>1</td>\n      <td>2</td>\n      <td>1</td>\n      <td>1</td>\n      <td>1</td>\n      <td>1</td>\n      <td>2</td>\n      <td>3</td>\n      <td>1</td>\n      <td>1</td>\n    </tr>\n    <tr>\n      <th>Doors</th>\n      <td>1</td>\n      <td>1</td>\n      <td>1</td>\n      <td>1</td>\n      <td>1</td>\n      <td>1</td>\n      <td>1</td>\n      <td>2</td>\n      <td>1</td>\n      <td>1</td>\n    </tr>\n    <tr>\n      <th>Wheel</th>\n      <td>2</td>\n      <td>1</td>\n      <td>1</td>\n      <td>1</td>\n      <td>1</td>\n      <td>1</td>\n      <td>1</td>\n      <td>1</td>\n      <td>1</td>\n      <td>1</td>\n    </tr>\n    <tr>\n      <th>Color</th>\n      <td>Black</td>\n      <td>White</td>\n      <td>Silver</td>\n      <td>White</td>\n      <td>White</td>\n      <td>Grey</td>\n      <td>Silver</td>\n      <td>Blue</td>\n      <td>White</td>\n      <td>Blue</td>\n    </tr>\n    <tr>\n      <th>Airbags</th>\n      <td>2</td>\n      <td>0</td>\n      <td>4</td>\n      <td>4</td>\n      <td>12</td>\n      <td>12</td>\n      <td>12</td>\n      <td>0</td>\n      <td>4</td>\n      <td>12</td>\n    </tr>\n    <tr>\n      <th>With_Turbo</th>\n      <td>0</td>\n      <td>0</td>\n      <td>0</td>\n      <td>0</td>\n      <td>0</td>\n      <td>0</td>\n      <td>0</td>\n      <td>0</td>\n      <td>0</td>\n      <td>0</td>\n    </tr>\n  </tbody>\n</table>\n</div>"
     },
     "execution_count": 37,
     "metadata": {},
     "output_type": "execute_result"
    }
   ],
   "source": [
    "df.head(10).T"
   ],
   "metadata": {
    "collapsed": false,
    "ExecuteTime": {
     "end_time": "2023-12-08T18:35:45.722989700Z",
     "start_time": "2023-12-08T18:35:45.354537800Z"
    }
   },
   "id": "2bd1e1d641011ed5"
  },
  {
   "cell_type": "code",
   "execution_count": 38,
   "outputs": [
    {
     "data": {
      "text/plain": "Index(['Price', 'Levy', 'Manufacturer', 'Model', 'Prod_year', 'Category',\n       'Leather_interior', 'Fuel_type', 'Engine_volume', 'Mileage',\n       'Cylinders', 'Gear_box_type', 'Drive_wheels', 'Doors', 'Wheel', 'Color',\n       'Airbags', 'With_Turbo'],\n      dtype='object')"
     },
     "execution_count": 38,
     "metadata": {},
     "output_type": "execute_result"
    }
   ],
   "source": [
    "df.columns"
   ],
   "metadata": {
    "collapsed": false,
    "ExecuteTime": {
     "end_time": "2023-12-08T18:35:49.204715200Z",
     "start_time": "2023-12-08T18:35:49.201468300Z"
    }
   },
   "id": "cf9142805b0ee844"
  },
  {
   "cell_type": "code",
   "execution_count": null,
   "id": "7572d47a",
   "metadata": {},
   "outputs": [],
   "source": [
    "# lets separate num attributes and categorical attributes from data\n",
    "num_attribs = ['Levy','Prod_year', 'Engine_volume','Doors', 'Mileage', 'Cylinders', 'Airbags']\n",
    "cat_attribs = ['Manufacturer','Category', 'Leather_interior', 'Fuel_type', 'Gear_box_type', 'Drive_wheels', 'Wheel', 'Color', 'With_Turbo']"
   ]
  },
  {
   "cell_type": "code",
   "execution_count": null,
   "id": "bb1ed241",
   "metadata": {},
   "outputs": [],
   "source": [
    "# Create separate df for all\n",
    "num_cars = df[num_attribs]\n",
    "y = df['Price']\n",
    "cat_cars = df[cat_attribs]"
   ]
  },
  {
   "cell_type": "code",
   "execution_count": null,
   "id": "fddab74e",
   "metadata": {},
   "outputs": [],
   "source": [
    "from sklearn.preprocessing import StandardScaler, OneHotEncoder\n",
    "\n",
    "# Initialize standar scaler object\n",
    "scaler = StandardScaler()\n",
    "\n",
    "# perform scalarization on numerical attributes\n",
    "num_cars = scaler.fit_transform(num_cars)"
   ]
  },
  {
   "cell_type": "code",
   "execution_count": null,
   "id": "ac1b70f6",
   "metadata": {},
   "outputs": [],
   "source": [
    "from sklearn.pipeline import Pipeline\n",
    "\n",
    "# created pipeline for scalarization\n",
    "num_pipeline = Pipeline([\n",
    "    ('std_scaler', StandardScaler())])"
   ]
  },
  {
   "cell_type": "code",
   "execution_count": null,
   "id": "1490527e",
   "metadata": {},
   "outputs": [],
   "source": [
    "from sklearn.compose import ColumnTransformer\n",
    "\n",
    "# created pipeline for one hot encoding to transform variables\n",
    "full_pipeline = ColumnTransformer([\n",
    "    ('num',num_pipeline, num_attribs),\n",
    "    ('cat',OneHotEncoder(), cat_attribs)  \n",
    "])\n",
    "\n",
    "cars_prepared = full_pipeline.fit_transform(df)\n",
    "dump(full_pipeline, 'full_pipeline.joblib')"
   ]
  },
  {
   "cell_type": "code",
   "execution_count": null,
   "outputs": [],
   "source": [
    "cars_prepared.shape"
   ],
   "metadata": {
    "collapsed": false
   },
   "id": "16858718e4172d95"
  },
  {
   "cell_type": "code",
   "execution_count": null,
   "id": "c3024792",
   "metadata": {},
   "outputs": [],
   "source": [
    "# perform train test split\n",
    "X_train, X_test, y_train, y_test = train_test_split(cars_prepared, y, test_size=0.20, random_state = 10)"
   ]
  },
  {
   "cell_type": "code",
   "execution_count": null,
   "outputs": [],
   "source": [
    "X_test.shape"
   ],
   "metadata": {
    "collapsed": false
   },
   "id": "159a6313c90853b7"
  },
  {
   "cell_type": "code",
   "execution_count": null,
   "id": "abbe33af",
   "metadata": {},
   "outputs": [],
   "source": [
    "# 1. Linear regression\n",
    "reg = LinearRegression()\n",
    "reg.fit(X_train, y_train)"
   ]
  },
  {
   "cell_type": "code",
   "execution_count": null,
   "id": "6a5c8bbd",
   "metadata": {},
   "outputs": [],
   "source": [
    "from sklearn.metrics import mean_absolute_error\n",
    "\n",
    "# predict values for X_test\n",
    "predictions = reg.predict(X_test)\n",
    "lin_mse = mean_squared_error(y_test, predictions)\n",
    "lin_rmse = np.sqrt(lin_mse)\n",
    "lin_rmse\n",
    "\n",
    "dump(reg, 'linear_regression_model.joblib')\n",
    "#We are approximately 8.3k away from actual prices which is not bad"
   ]
  },
  {
   "cell_type": "code",
   "execution_count": null,
   "id": "b19a67b1",
   "metadata": {},
   "outputs": [],
   "source": [
    "mae = mean_absolute_error(y_test, predictions)\n",
    "mae"
   ]
  },
  {
   "cell_type": "code",
   "execution_count": null,
   "id": "44819142",
   "metadata": {},
   "outputs": [],
   "source": [
    "accuracy_ln = round(r2_score(y_test,predictions),3)*100\n",
    "print(\"Accuracy by linear regression \",accuracy_ln)"
   ]
  },
  {
   "cell_type": "code",
   "execution_count": null,
   "id": "f3c692d6",
   "metadata": {
    "scrolled": true
   },
   "outputs": [],
   "source": [
    "#2. Decision Tree\n",
    "from sklearn.tree import DecisionTreeRegressor\n",
    "\n",
    "# Initialize decision tree regressor\n",
    "tree_reg = DecisionTreeRegressor(random_state = 10)\n",
    "tree_reg.fit(X_train, y_train)"
   ]
  },
  {
   "cell_type": "code",
   "execution_count": null,
   "id": "7592d643",
   "metadata": {},
   "outputs": [],
   "source": [
    "\n",
    "tree_predictions_train = tree_reg.predict(X_train)\n",
    "tree_mse_train = mean_squared_error(y_train, tree_predictions_train)\n",
    "tree_mse_train = np.sqrt(tree_mse_train)\n",
    "print(\"Train rmse\",tree_mse_train)"
   ]
  },
  {
   "cell_type": "code",
   "execution_count": null,
   "id": "7d372dd8",
   "metadata": {},
   "outputs": [],
   "source": [
    "# calculate and print test rmse\n",
    "tree_predictions = tree_reg.predict(X_test)\n",
    "tree_mse = mean_squared_error(y_test, tree_predictions)\n",
    "tree_rmse = np.sqrt(tree_mse)\n",
    "print(\"Test rmse\",tree_rmse)"
   ]
  },
  {
   "cell_type": "code",
   "execution_count": null,
   "id": "2ebc1cc6",
   "metadata": {},
   "outputs": [],
   "source": [
    "# lets print tree rmse scores with cv as 5\n",
    "scores = cross_val_score(tree_reg, X_train, y_train, scoring='neg_mean_squared_error', cv=5)\n",
    "tree_rmse_scores = np.sqrt(-scores)\n",
    "tree_rmse_scores"
   ]
  },
  {
   "cell_type": "code",
   "execution_count": null,
   "id": "f771bcd4",
   "metadata": {},
   "outputs": [],
   "source": [
    "# Display accuracy for decision tree\n",
    "accuracy_dt = round(r2_score(y_test,tree_predictions),3)*100\n",
    "print(\"Accuracy by decision tree \",accuracy_dt)"
   ]
  },
  {
   "cell_type": "code",
   "execution_count": null,
   "id": "07733827",
   "metadata": {},
   "outputs": [],
   "source": [
    "# Plotting the actual vs. predicted values\n",
    "plt.scatter(y_test, tree_predictions, color='blue')\n",
    "plt.xlabel('Actual Values')\n",
    "plt.ylabel('Predicted Values')\n",
    "plt.title('Decision Tree: Actual vs. Predicted Values')\n",
    "plt.show()"
   ]
  },
  {
   "cell_type": "code",
   "execution_count": null,
   "id": "6daa97df",
   "metadata": {},
   "outputs": [],
   "source": [
    "# 3. Random forest"
   ]
  },
  {
   "cell_type": "code",
   "execution_count": null,
   "id": "7d0800eb",
   "metadata": {},
   "outputs": [],
   "source": [
    "# Initialize object for random forest regressor\n",
    "forest_reg = RandomForestRegressor(n_estimators = 100, random_state=10)\n",
    "forest_reg.fit(X_train, y_train)"
   ]
  },
  {
   "cell_type": "code",
   "execution_count": null,
   "id": "ba2b3a81",
   "metadata": {},
   "outputs": [],
   "source": [
    "# calculate and print train rsme to check fit of data\n",
    "forest_predictions_train = forest_reg.predict(X_train)\n",
    "forest_mse_train = mean_squared_error(y_train, forest_predictions_train)\n",
    "forest_mse_train = np.sqrt(forest_mse_train)\n",
    "print(\"Train rmse for random forest : \",forest_mse_train)"
   ]
  },
  {
   "cell_type": "code",
   "execution_count": null,
   "id": "c676e198",
   "metadata": {},
   "outputs": [],
   "source": [
    "# calculate and print test rsme to check fit of data\n",
    "forest_predictions = forest_reg.predict(X_test)\n",
    "forest_mse = mean_squared_error(y_test, forest_predictions)\n",
    "forest_mse = np.sqrt(forest_mse)\n",
    "print(\"Test rmse for random forest : \",forest_mse)"
   ]
  },
  {
   "cell_type": "code",
   "execution_count": null,
   "id": "1402f4df",
   "metadata": {},
   "outputs": [],
   "source": [
    "# print rmse scores for random forest\n",
    "forest_scores = cross_val_score(forest_reg, X_train, y_train, scoring=\"neg_mean_squared_error\", cv=5)\n",
    "forest_rmse_scores = np.sqrt(-forest_scores)\n",
    "forest_rmse_scores"
   ]
  },
  {
   "cell_type": "code",
   "execution_count": null,
   "id": "e0862730",
   "metadata": {},
   "outputs": [],
   "source": [
    "from sklearn.model_selection import GridSearchCV\n",
    "\n",
    "# Perform grid search with estimators and max_features\n",
    "param_grid = [ {'n_estimators': [100, 200], 'max_features': [35,33,31]},]\n",
    "\n",
    "forest_reg = RandomForestRegressor(random_state=10)\n",
    "grid_search = GridSearchCV(forest_reg, param_grid, cv=5, scoring='neg_mean_squared_error', return_train_score=True)\n",
    "grid_search.fit(X_train, y_train)"
   ]
  },
  {
   "cell_type": "code",
   "execution_count": null,
   "id": "8dd8610a",
   "metadata": {},
   "outputs": [],
   "source": [
    "# print best params\n",
    "grid_search.best_params_"
   ]
  },
  {
   "cell_type": "code",
   "execution_count": null,
   "id": "8cd6bce7",
   "metadata": {},
   "outputs": [],
   "source": [
    "feature_importances = grid_search.best_estimator_.feature_importances_\n",
    "cat_encoder = full_pipeline.named_transformers_[\"cat\"]\n",
    "cat_one_hot_attribs = [i  for cat in cat_encoder.categories_ for i in cat]\n",
    "attributes = num_attribs +  cat_one_hot_attribs\n",
    "sorted(zip(feature_importances, attributes), reverse=True)\n"
   ]
  },
  {
   "cell_type": "code",
   "execution_count": null,
   "outputs": [],
   "source": [
    "print(f\"Shape: {X_test.shape}\")"
   ],
   "metadata": {
    "collapsed": false
   },
   "id": "d69aa35caba67257"
  },
  {
   "cell_type": "code",
   "execution_count": null,
   "id": "de2e9145",
   "metadata": {},
   "outputs": [],
   "source": [
    "# Calcualte and print test rmse based on best estimator\n",
    "\n",
    "from joblib import dump\n",
    "\n",
    "final_model = grid_search.best_estimator_\n",
    "final_predictions = final_model.predict(X_test)\n",
    "final_mse = mean_squared_error(y_test, final_predictions)\n",
    "final_rmse = np.sqrt(final_mse)\n",
    "dump(final_model, 'random_forest_model.joblib')\n",
    "print(\"Test RMSE for random forest after grid search :\",final_rmse)\n",
    "\n"
   ]
  },
  {
   "cell_type": "code",
   "execution_count": null,
   "id": "f6e8da6d",
   "metadata": {},
   "outputs": [],
   "source": [
    "# calculate squared error with confidence as 95%\n",
    "confidence = 0.95\n",
    "squared_errors = (final_predictions - y_test) ** 2\n",
    "np.sqrt(stats.t.interval(confidence, len(squared_errors) - 1,\n",
    "                         loc=squared_errors.mean(),\n",
    "                         scale=stats.sem(squared_errors)))"
   ]
  },
  {
   "cell_type": "code",
   "execution_count": null,
   "id": "a28d014c",
   "metadata": {},
   "outputs": [],
   "source": [
    "# display accuracy for random forest\n",
    "accuracy_rf = round(r2_score(y_test,final_predictions),3)*100\n",
    "print(\"Accuracy by Random forest \",accuracy_rf)"
   ]
  },
  {
   "cell_type": "code",
   "execution_count": null,
   "id": "05cb935f",
   "metadata": {},
   "outputs": [],
   "source": [
    "# 4. Ada boost regressor\n",
    "\n",
    "# Initialize ada boost regressor\n",
    "ada = AdaBoostRegressor( n_estimators=150, learning_rate =.08)\n",
    "ada.fit(X_train, y_train)    \n",
    "\n",
    "# Predict values using ada boost model\n",
    "y_pred = ada.predict(X_test)\n",
    "\n",
    "# Print accuracy\n",
    "accuracy_ada = round(r2_score(y_test,y_pred),3)*100\n",
    "print(\"Accuracy by ada boost \",accuracy_ada)"
   ]
  },
  {
   "cell_type": "code",
   "execution_count": null,
   "id": "cd2e56c5",
   "metadata": {},
   "outputs": [],
   "source": [
    "# Residual plot for adaboost \n",
    "residuals = y_pred - y_test\n",
    "plt.scatter(y_test, residuals, alpha=0.5)\n",
    "plt.axhline(y=0, color='red', linestyle='--', linewidth=2)\n",
    "plt.xlabel(\"Actual Prices\")\n",
    "plt.ylabel(\"Residuals\")\n",
    "plt.title(\"Residual Plot (AdaBoost)\")\n",
    "plt.show()"
   ]
  },
  {
   "cell_type": "code",
   "execution_count": null,
   "id": "8a817ce1",
   "metadata": {
    "scrolled": true
   },
   "outputs": [],
   "source": [
    "# 5. K-Nearest Neighbors (KNN)\n",
    "\n",
    "knn = KNeighborsRegressor()\n",
    "knn.fit(X_train, y_train)\n",
    "knn_pred = knn.predict(X_test)\n",
    "knn_accuracy = knn.score(X_test, y_test)\n",
    "print(\"Accuracy by KNN\",knn_accuracy)"
   ]
  },
  {
   "cell_type": "code",
   "execution_count": null,
   "id": "bbac175e",
   "metadata": {},
   "outputs": [],
   "source": [
    "residuals = knn_pred - y_test\n",
    "plt.scatter(y_test, residuals, alpha=0.5)\n",
    "plt.axhline(y=0, color='red', linestyle='--', linewidth=2)\n",
    "plt.xlabel(\"Actual Prices\")\n",
    "plt.ylabel(\"Residuals\")\n",
    "plt.title(\"Residual Plot (KNN)\")\n",
    "plt.show()"
   ]
  },
  {
   "cell_type": "code",
   "execution_count": null,
   "id": "64c2c27a",
   "metadata": {},
   "outputs": [],
   "source": [
    "# Visualize the results\n",
    "plt.figure(figsize=(10, 6))\n",
    "plt.scatter(y_test, knn_pred, color='blue', label='Actual vs. Predicted')\n",
    "plt.plot([min(y_test), max(y_test)], [min(y_test), max(y_test)], linestyle='--', color='red', label='Perfect Prediction Line')\n",
    "plt.title('KNN Regression: Actual vs. Predicted')\n",
    "plt.xlabel('Actual Values')\n",
    "plt.ylabel('Predicted Values')\n",
    "plt.legend()\n",
    "plt.show()"
   ]
  },
  {
   "cell_type": "code",
   "execution_count": null,
   "id": "c2c41e86",
   "metadata": {},
   "outputs": [],
   "source": [
    "# 6. Gradient Boosting (XGBoost)\n",
    "\n",
    "xgb_reg = xgb.XGBRegressor()\n",
    "xgb_reg.fit(X_train, y_train)\n",
    "xgb_pred = xgb_reg.predict(X_test)\n",
    "xgb_accuracy = xgb_reg.score(X_test, y_test)\n",
    "print(\"Accuracy by XG boost :\", xgb_accuracy)"
   ]
  },
  {
   "cell_type": "code",
   "execution_count": null,
   "id": "a703e717",
   "metadata": {},
   "outputs": [],
   "source": [
    "residuals = xgb_pred - y_test\n",
    "plt.scatter(y_test, residuals, alpha=0.5)\n",
    "plt.axhline(y=0, color='red', linestyle='--', linewidth=2)\n",
    "plt.xlabel(\"Actual Prices\")\n",
    "plt.ylabel(\"Residuals\")\n",
    "plt.title(\"Residual Plot (XGBoost)\")\n",
    "plt.show()"
   ]
  },
  {
   "cell_type": "code",
   "execution_count": null,
   "id": "ba38d144",
   "metadata": {},
   "outputs": [],
   "source": [
    "# Accuracy of all models:\n",
    "print(\"Accuracy acheived by different models\")\n",
    "print(\"1. linear regression \",accuracy_ln)\n",
    "print(\"2. decision tree \",accuracy_dt)\n",
    "print(\"3. Random forest \",accuracy_rf)\n",
    "print(\"4. ada boost \",accuracy_ada)\n",
    "print(\"5. KNN\",knn_accuracy*100)\n",
    "print(\"6. XG boost :\", xgb_accuracy*100)"
   ]
  }
 ],
 "metadata": {
  "kernelspec": {
   "display_name": "Python 3 (ipykernel)",
   "language": "python",
   "name": "python3"
  },
  "language_info": {
   "codemirror_mode": {
    "name": "ipython",
    "version": 3
   },
   "file_extension": ".py",
   "mimetype": "text/x-python",
   "name": "python",
   "nbconvert_exporter": "python",
   "pygments_lexer": "ipython3",
   "version": "3.9.13"
  }
 },
 "nbformat": 4,
 "nbformat_minor": 5
}

{
 "cells": [
  {
   "cell_type": "markdown",
   "id": "6cc476f1",
   "metadata": {},
   "source": [
    "# Car Price Prediction: Data Preprocessing / EDA\n",
    "## Project Members: \n",
    "### 1.    Abhishek Manish Bedarkar | 50495186 | abedarka\n",
    "### 2.    Sanket Milind Gadhave | 50495154 | sgadhave\n",
    "### 3.    Milind Rajendra Kulkarni | 50495311 | milindra"
   ]
  },
  {
   "cell_type": "code",
   "execution_count": 56,
   "id": "996fec85",
   "metadata": {
    "ExecuteTime": {
     "end_time": "2023-12-05T00:59:49.131029900Z",
     "start_time": "2023-12-05T00:59:48.964724800Z"
    }
   },
   "outputs": [],
   "source": [
    "# import all required libraries \n",
    "import numpy as np \n",
    "import pandas as pd\n",
    "import seaborn as sns\n",
    "import matplotlib.pyplot as plt\n",
    "from sklearn.preprocessing import MinMaxScaler\n",
    "from sklearn.model_selection import train_test_split\n",
    "from sklearn.preprocessing import StandardScaler, OneHotEncoder\n",
    "from sklearn.pipeline import Pipeline\n",
    "from sklearn.linear_model import LinearRegression\n",
    "from sklearn.compose import ColumnTransformer\n",
    "from sklearn.metrics import mean_absolute_error, mean_squared_error\n",
    "from sklearn.ensemble import RandomForestRegressor\n",
    "from sklearn.tree import DecisionTreeRegressor\n",
    "from sklearn.model_selection import cross_val_score\n",
    "from sklearn.model_selection import GridSearchCV\n",
    "from sklearn.ensemble import AdaBoostRegressor\n",
    "from sklearn.metrics import r2_score\n",
    "from scipy import stats\n",
    "import xgboost as xgb\n",
    "from sklearn.neighbors import KNeighborsRegressor\n",
    "from pandas.plotting import scatter_matrix\n",
    "from joblib import dump"
   ]
  },
  {
   "cell_type": "code",
   "execution_count": 57,
   "id": "38cbc20a",
   "metadata": {
    "scrolled": true,
    "ExecuteTime": {
     "end_time": "2023-12-05T00:59:49.233783700Z",
     "start_time": "2023-12-05T00:59:48.970226600Z"
    }
   },
   "outputs": [
    {
     "data": {
      "text/plain": "                           0           1                 2           3  \\\nID                  45654403    44731507          45774419    45769185   \nPrice                  13328       16621              8467        3607   \nLevy                    1399        1018                 -         862   \nManufacturer           LEXUS   CHEVROLET             HONDA        FORD   \nModel                 RX 450     Equinox               FIT      Escape   \nProd. year              2010        2011              2006        2011   \nCategory                Jeep        Jeep         Hatchback        Jeep   \nLeather interior         Yes          No                No         Yes   \nFuel type             Hybrid      Petrol            Petrol      Hybrid   \nEngine volume            3.5           3               1.3         2.5   \nMileage            186005 km   192000 km         200000 km   168966 km   \nCylinders                6.0         6.0               4.0         4.0   \nGear box type      Automatic   Tiptronic          Variator   Automatic   \nDrive wheels             4x4         4x4             Front         4x4   \nDoors                 04-May      04-May            04-May      04-May   \nWheel             Left wheel  Left wheel  Right-hand drive  Left wheel   \nColor                 Silver       Black             Black       White   \nAirbags                   12           8                 2           0   \n\n                           4           5           6           7           8  \\\nID                  45809263    45802912    45656768    45816158    45641395   \nPrice                  11726       39493        1803         549        1098   \nLevy                     446         891         761         751         394   \nManufacturer           HONDA     HYUNDAI      TOYOTA     HYUNDAI      TOYOTA   \nModel                    FIT    Santa FE       Prius      Sonata       Camry   \nProd. year              2014        2016        2010        2013        2014   \nCategory           Hatchback        Jeep   Hatchback       Sedan       Sedan   \nLeather interior         Yes         Yes         Yes         Yes         Yes   \nFuel type             Petrol      Diesel      Hybrid      Petrol      Hybrid   \nEngine volume            1.3           2         1.8         2.4         2.5   \nMileage             91901 km   160931 km   258909 km   216118 km   398069 km   \nCylinders                4.0         4.0         4.0         4.0         4.0   \nGear box type      Automatic   Automatic   Automatic   Automatic   Automatic   \nDrive wheels           Front       Front       Front       Front       Front   \nDoors                 04-May      04-May      04-May      04-May      04-May   \nWheel             Left wheel  Left wheel  Left wheel  Left wheel  Left wheel   \nColor                 Silver       White       White        Grey       Black   \nAirbags                    4           4          12          12          12   \n\n                           9  \nID                  45756839  \nPrice                  26657  \nLevy                       -  \nManufacturer           LEXUS  \nModel                 RX 350  \nProd. year              2007  \nCategory                Jeep  \nLeather interior         Yes  \nFuel type             Petrol  \nEngine volume            3.5  \nMileage            128500 km  \nCylinders                6.0  \nGear box type      Automatic  \nDrive wheels             4x4  \nDoors                 04-May  \nWheel             Left wheel  \nColor                 Silver  \nAirbags                   12  ",
      "text/html": "<div>\n<style scoped>\n    .dataframe tbody tr th:only-of-type {\n        vertical-align: middle;\n    }\n\n    .dataframe tbody tr th {\n        vertical-align: top;\n    }\n\n    .dataframe thead th {\n        text-align: right;\n    }\n</style>\n<table border=\"1\" class=\"dataframe\">\n  <thead>\n    <tr style=\"text-align: right;\">\n      <th></th>\n      <th>0</th>\n      <th>1</th>\n      <th>2</th>\n      <th>3</th>\n      <th>4</th>\n      <th>5</th>\n      <th>6</th>\n      <th>7</th>\n      <th>8</th>\n      <th>9</th>\n    </tr>\n  </thead>\n  <tbody>\n    <tr>\n      <th>ID</th>\n      <td>45654403</td>\n      <td>44731507</td>\n      <td>45774419</td>\n      <td>45769185</td>\n      <td>45809263</td>\n      <td>45802912</td>\n      <td>45656768</td>\n      <td>45816158</td>\n      <td>45641395</td>\n      <td>45756839</td>\n    </tr>\n    <tr>\n      <th>Price</th>\n      <td>13328</td>\n      <td>16621</td>\n      <td>8467</td>\n      <td>3607</td>\n      <td>11726</td>\n      <td>39493</td>\n      <td>1803</td>\n      <td>549</td>\n      <td>1098</td>\n      <td>26657</td>\n    </tr>\n    <tr>\n      <th>Levy</th>\n      <td>1399</td>\n      <td>1018</td>\n      <td>-</td>\n      <td>862</td>\n      <td>446</td>\n      <td>891</td>\n      <td>761</td>\n      <td>751</td>\n      <td>394</td>\n      <td>-</td>\n    </tr>\n    <tr>\n      <th>Manufacturer</th>\n      <td>LEXUS</td>\n      <td>CHEVROLET</td>\n      <td>HONDA</td>\n      <td>FORD</td>\n      <td>HONDA</td>\n      <td>HYUNDAI</td>\n      <td>TOYOTA</td>\n      <td>HYUNDAI</td>\n      <td>TOYOTA</td>\n      <td>LEXUS</td>\n    </tr>\n    <tr>\n      <th>Model</th>\n      <td>RX 450</td>\n      <td>Equinox</td>\n      <td>FIT</td>\n      <td>Escape</td>\n      <td>FIT</td>\n      <td>Santa FE</td>\n      <td>Prius</td>\n      <td>Sonata</td>\n      <td>Camry</td>\n      <td>RX 350</td>\n    </tr>\n    <tr>\n      <th>Prod. year</th>\n      <td>2010</td>\n      <td>2011</td>\n      <td>2006</td>\n      <td>2011</td>\n      <td>2014</td>\n      <td>2016</td>\n      <td>2010</td>\n      <td>2013</td>\n      <td>2014</td>\n      <td>2007</td>\n    </tr>\n    <tr>\n      <th>Category</th>\n      <td>Jeep</td>\n      <td>Jeep</td>\n      <td>Hatchback</td>\n      <td>Jeep</td>\n      <td>Hatchback</td>\n      <td>Jeep</td>\n      <td>Hatchback</td>\n      <td>Sedan</td>\n      <td>Sedan</td>\n      <td>Jeep</td>\n    </tr>\n    <tr>\n      <th>Leather interior</th>\n      <td>Yes</td>\n      <td>No</td>\n      <td>No</td>\n      <td>Yes</td>\n      <td>Yes</td>\n      <td>Yes</td>\n      <td>Yes</td>\n      <td>Yes</td>\n      <td>Yes</td>\n      <td>Yes</td>\n    </tr>\n    <tr>\n      <th>Fuel type</th>\n      <td>Hybrid</td>\n      <td>Petrol</td>\n      <td>Petrol</td>\n      <td>Hybrid</td>\n      <td>Petrol</td>\n      <td>Diesel</td>\n      <td>Hybrid</td>\n      <td>Petrol</td>\n      <td>Hybrid</td>\n      <td>Petrol</td>\n    </tr>\n    <tr>\n      <th>Engine volume</th>\n      <td>3.5</td>\n      <td>3</td>\n      <td>1.3</td>\n      <td>2.5</td>\n      <td>1.3</td>\n      <td>2</td>\n      <td>1.8</td>\n      <td>2.4</td>\n      <td>2.5</td>\n      <td>3.5</td>\n    </tr>\n    <tr>\n      <th>Mileage</th>\n      <td>186005 km</td>\n      <td>192000 km</td>\n      <td>200000 km</td>\n      <td>168966 km</td>\n      <td>91901 km</td>\n      <td>160931 km</td>\n      <td>258909 km</td>\n      <td>216118 km</td>\n      <td>398069 km</td>\n      <td>128500 km</td>\n    </tr>\n    <tr>\n      <th>Cylinders</th>\n      <td>6.0</td>\n      <td>6.0</td>\n      <td>4.0</td>\n      <td>4.0</td>\n      <td>4.0</td>\n      <td>4.0</td>\n      <td>4.0</td>\n      <td>4.0</td>\n      <td>4.0</td>\n      <td>6.0</td>\n    </tr>\n    <tr>\n      <th>Gear box type</th>\n      <td>Automatic</td>\n      <td>Tiptronic</td>\n      <td>Variator</td>\n      <td>Automatic</td>\n      <td>Automatic</td>\n      <td>Automatic</td>\n      <td>Automatic</td>\n      <td>Automatic</td>\n      <td>Automatic</td>\n      <td>Automatic</td>\n    </tr>\n    <tr>\n      <th>Drive wheels</th>\n      <td>4x4</td>\n      <td>4x4</td>\n      <td>Front</td>\n      <td>4x4</td>\n      <td>Front</td>\n      <td>Front</td>\n      <td>Front</td>\n      <td>Front</td>\n      <td>Front</td>\n      <td>4x4</td>\n    </tr>\n    <tr>\n      <th>Doors</th>\n      <td>04-May</td>\n      <td>04-May</td>\n      <td>04-May</td>\n      <td>04-May</td>\n      <td>04-May</td>\n      <td>04-May</td>\n      <td>04-May</td>\n      <td>04-May</td>\n      <td>04-May</td>\n      <td>04-May</td>\n    </tr>\n    <tr>\n      <th>Wheel</th>\n      <td>Left wheel</td>\n      <td>Left wheel</td>\n      <td>Right-hand drive</td>\n      <td>Left wheel</td>\n      <td>Left wheel</td>\n      <td>Left wheel</td>\n      <td>Left wheel</td>\n      <td>Left wheel</td>\n      <td>Left wheel</td>\n      <td>Left wheel</td>\n    </tr>\n    <tr>\n      <th>Color</th>\n      <td>Silver</td>\n      <td>Black</td>\n      <td>Black</td>\n      <td>White</td>\n      <td>Silver</td>\n      <td>White</td>\n      <td>White</td>\n      <td>Grey</td>\n      <td>Black</td>\n      <td>Silver</td>\n    </tr>\n    <tr>\n      <th>Airbags</th>\n      <td>12</td>\n      <td>8</td>\n      <td>2</td>\n      <td>0</td>\n      <td>4</td>\n      <td>4</td>\n      <td>12</td>\n      <td>12</td>\n      <td>12</td>\n      <td>12</td>\n    </tr>\n  </tbody>\n</table>\n</div>"
     },
     "execution_count": 57,
     "metadata": {},
     "output_type": "execute_result"
    }
   ],
   "source": [
    "# Read csv file and render top 10 rows\n",
    "df = pd.read_csv(\"car_price_prediction.csv\")\n",
    "df.head(10).T"
   ]
  },
  {
   "cell_type": "code",
   "execution_count": 58,
   "id": "ff35ce2a",
   "metadata": {
    "ExecuteTime": {
     "end_time": "2023-12-05T00:59:49.233783700Z",
     "start_time": "2023-12-05T00:59:49.006521400Z"
    }
   },
   "outputs": [
    {
     "data": {
      "text/plain": "['ID',\n 'Price',\n 'Levy',\n 'Manufacturer',\n 'Model',\n 'Prod. year',\n 'Category',\n 'Leather interior',\n 'Fuel type',\n 'Engine volume',\n 'Mileage',\n 'Cylinders',\n 'Gear box type',\n 'Drive wheels',\n 'Doors',\n 'Wheel',\n 'Color',\n 'Airbags']"
     },
     "execution_count": 58,
     "metadata": {},
     "output_type": "execute_result"
    }
   ],
   "source": [
    "# List of features in dataset\n",
    "df.columns.to_list()"
   ]
  },
  {
   "cell_type": "code",
   "execution_count": 59,
   "id": "07e395d6",
   "metadata": {
    "ExecuteTime": {
     "end_time": "2023-12-05T00:59:49.245784Z",
     "start_time": "2023-12-05T00:59:49.012658400Z"
    }
   },
   "outputs": [
    {
     "data": {
      "text/plain": "              count          mean            std         min         25%  \\\nID          19237.0  4.557654e+07  936591.422799  20746880.0  45698374.0   \nPrice       19237.0  1.855593e+04  190581.269684         1.0      5331.0   \nProd. year  19237.0  2.010913e+03       5.668673      1939.0      2009.0   \nCylinders   19237.0  4.582991e+00       1.199933         1.0         4.0   \nAirbags     19237.0  6.582627e+00       4.320168         0.0         4.0   \n\n                   50%         75%         max  \nID          45772308.0  45802036.0  45816654.0  \nPrice          13172.0     22075.0  26307500.0  \nProd. year      2012.0      2015.0      2020.0  \nCylinders          4.0         4.0        16.0  \nAirbags            6.0        12.0        16.0  ",
      "text/html": "<div>\n<style scoped>\n    .dataframe tbody tr th:only-of-type {\n        vertical-align: middle;\n    }\n\n    .dataframe tbody tr th {\n        vertical-align: top;\n    }\n\n    .dataframe thead th {\n        text-align: right;\n    }\n</style>\n<table border=\"1\" class=\"dataframe\">\n  <thead>\n    <tr style=\"text-align: right;\">\n      <th></th>\n      <th>count</th>\n      <th>mean</th>\n      <th>std</th>\n      <th>min</th>\n      <th>25%</th>\n      <th>50%</th>\n      <th>75%</th>\n      <th>max</th>\n    </tr>\n  </thead>\n  <tbody>\n    <tr>\n      <th>ID</th>\n      <td>19237.0</td>\n      <td>4.557654e+07</td>\n      <td>936591.422799</td>\n      <td>20746880.0</td>\n      <td>45698374.0</td>\n      <td>45772308.0</td>\n      <td>45802036.0</td>\n      <td>45816654.0</td>\n    </tr>\n    <tr>\n      <th>Price</th>\n      <td>19237.0</td>\n      <td>1.855593e+04</td>\n      <td>190581.269684</td>\n      <td>1.0</td>\n      <td>5331.0</td>\n      <td>13172.0</td>\n      <td>22075.0</td>\n      <td>26307500.0</td>\n    </tr>\n    <tr>\n      <th>Prod. year</th>\n      <td>19237.0</td>\n      <td>2.010913e+03</td>\n      <td>5.668673</td>\n      <td>1939.0</td>\n      <td>2009.0</td>\n      <td>2012.0</td>\n      <td>2015.0</td>\n      <td>2020.0</td>\n    </tr>\n    <tr>\n      <th>Cylinders</th>\n      <td>19237.0</td>\n      <td>4.582991e+00</td>\n      <td>1.199933</td>\n      <td>1.0</td>\n      <td>4.0</td>\n      <td>4.0</td>\n      <td>4.0</td>\n      <td>16.0</td>\n    </tr>\n    <tr>\n      <th>Airbags</th>\n      <td>19237.0</td>\n      <td>6.582627e+00</td>\n      <td>4.320168</td>\n      <td>0.0</td>\n      <td>4.0</td>\n      <td>6.0</td>\n      <td>12.0</td>\n      <td>16.0</td>\n    </tr>\n  </tbody>\n</table>\n</div>"
     },
     "execution_count": 59,
     "metadata": {},
     "output_type": "execute_result"
    }
   ],
   "source": [
    "# Print summary of dataset and have a look at central tendancy\n",
    "df.describe().T"
   ]
  },
  {
   "cell_type": "markdown",
   "id": "9cc8e4bb",
   "metadata": {},
   "source": [
    "# Data Preprocessing\n",
    "## 1. Column Renaming"
   ]
  },
  {
   "cell_type": "code",
   "execution_count": 60,
   "id": "d59b99cc",
   "metadata": {
    "ExecuteTime": {
     "end_time": "2023-12-05T00:59:49.258784500Z",
     "start_time": "2023-12-05T00:59:49.029600300Z"
    }
   },
   "outputs": [],
   "source": [
    "# Renaming dataset attributes for better understanding\n",
    "df.rename(columns={'Prod. year': 'Prod_year'}, inplace=True)\n",
    "df.rename(columns={'Leather interior': 'Leather_interior'}, inplace=True)\n",
    "df.rename(columns={'Fuel type': 'Fuel_type'}, inplace=True)\n",
    "df.rename(columns={'Engine volume': 'Engine_volume'}, inplace=True)\n",
    "df.rename(columns={'Gear box type': 'Gear_box_type'}, inplace=True)\n",
    "df.rename(columns={'Drive wheels': 'Drive_wheels'}, inplace=True)"
   ]
  },
  {
   "cell_type": "markdown",
   "id": "ece63469",
   "metadata": {},
   "source": [
    "## 2. Removing Duplicates"
   ]
  },
  {
   "cell_type": "code",
   "execution_count": 61,
   "id": "1016527e",
   "metadata": {
    "ExecuteTime": {
     "end_time": "2023-12-05T00:59:49.259783Z",
     "start_time": "2023-12-05T00:59:49.033836100Z"
    }
   },
   "outputs": [
    {
     "data": {
      "text/plain": "(19237, 18)"
     },
     "execution_count": 61,
     "metadata": {},
     "output_type": "execute_result"
    }
   ],
   "source": [
    "# Dimention of dataset before removing duplicates \n",
    "df.shape"
   ]
  },
  {
   "cell_type": "code",
   "execution_count": 62,
   "id": "57dd496b",
   "metadata": {
    "ExecuteTime": {
     "end_time": "2023-12-05T00:59:49.262783500Z",
     "start_time": "2023-12-05T00:59:49.038560100Z"
    }
   },
   "outputs": [
    {
     "data": {
      "text/plain": "313"
     },
     "execution_count": 62,
     "metadata": {},
     "output_type": "execute_result"
    }
   ],
   "source": [
    "# Count the number of duplicates in dataset\n",
    "df.duplicated().sum()"
   ]
  },
  {
   "cell_type": "code",
   "execution_count": 63,
   "id": "19c64b45",
   "metadata": {
    "ExecuteTime": {
     "end_time": "2023-12-05T00:59:49.265783900Z",
     "start_time": "2023-12-05T00:59:49.055878400Z"
    }
   },
   "outputs": [],
   "source": [
    "# Drop duplicate rows from dataset\n",
    "df = df.drop_duplicates()"
   ]
  },
  {
   "cell_type": "code",
   "execution_count": 64,
   "id": "06fb2c31",
   "metadata": {
    "ExecuteTime": {
     "end_time": "2023-12-05T00:59:49.267784Z",
     "start_time": "2023-12-05T00:59:49.076092600Z"
    }
   },
   "outputs": [
    {
     "data": {
      "text/plain": "(18924, 18)"
     },
     "execution_count": 64,
     "metadata": {},
     "output_type": "execute_result"
    }
   ],
   "source": [
    "# Dimention of dataset after removing duplicates\n",
    "df.shape"
   ]
  },
  {
   "cell_type": "markdown",
   "id": "f2673871",
   "metadata": {},
   "source": [
    "## 3. Handling inconsistent Mileage values"
   ]
  },
  {
   "cell_type": "code",
   "execution_count": 65,
   "id": "c9d4585f",
   "metadata": {
    "ExecuteTime": {
     "end_time": "2023-12-05T00:59:49.268785700Z",
     "start_time": "2023-12-05T00:59:49.081080400Z"
    }
   },
   "outputs": [
    {
     "data": {
      "text/plain": "         ID  Price  Levy Manufacturer    Model  Prod_year   Category  \\\n0  45654403  13328  1399        LEXUS   RX 450       2010       Jeep   \n1  44731507  16621  1018    CHEVROLET  Equinox       2011       Jeep   \n2  45774419   8467     -        HONDA      FIT       2006  Hatchback   \n3  45769185   3607   862         FORD   Escape       2011       Jeep   \n4  45809263  11726   446        HONDA      FIT       2014  Hatchback   \n\n  Leather_interior Fuel_type Engine_volume Mileage  Cylinders Gear_box_type  \\\n0              Yes    Hybrid           3.5  186005        6.0     Automatic   \n1               No    Petrol             3  192000        6.0     Tiptronic   \n2               No    Petrol           1.3  200000        4.0      Variator   \n3              Yes    Hybrid           2.5  168966        4.0     Automatic   \n4              Yes    Petrol           1.3   91901        4.0     Automatic   \n\n  Drive_wheels   Doors             Wheel   Color  Airbags  \n0          4x4  04-May        Left wheel  Silver       12  \n1          4x4  04-May        Left wheel   Black        8  \n2        Front  04-May  Right-hand drive   Black        2  \n3          4x4  04-May        Left wheel   White        0  \n4        Front  04-May        Left wheel  Silver        4  ",
      "text/html": "<div>\n<style scoped>\n    .dataframe tbody tr th:only-of-type {\n        vertical-align: middle;\n    }\n\n    .dataframe tbody tr th {\n        vertical-align: top;\n    }\n\n    .dataframe thead th {\n        text-align: right;\n    }\n</style>\n<table border=\"1\" class=\"dataframe\">\n  <thead>\n    <tr style=\"text-align: right;\">\n      <th></th>\n      <th>ID</th>\n      <th>Price</th>\n      <th>Levy</th>\n      <th>Manufacturer</th>\n      <th>Model</th>\n      <th>Prod_year</th>\n      <th>Category</th>\n      <th>Leather_interior</th>\n      <th>Fuel_type</th>\n      <th>Engine_volume</th>\n      <th>Mileage</th>\n      <th>Cylinders</th>\n      <th>Gear_box_type</th>\n      <th>Drive_wheels</th>\n      <th>Doors</th>\n      <th>Wheel</th>\n      <th>Color</th>\n      <th>Airbags</th>\n    </tr>\n  </thead>\n  <tbody>\n    <tr>\n      <th>0</th>\n      <td>45654403</td>\n      <td>13328</td>\n      <td>1399</td>\n      <td>LEXUS</td>\n      <td>RX 450</td>\n      <td>2010</td>\n      <td>Jeep</td>\n      <td>Yes</td>\n      <td>Hybrid</td>\n      <td>3.5</td>\n      <td>186005</td>\n      <td>6.0</td>\n      <td>Automatic</td>\n      <td>4x4</td>\n      <td>04-May</td>\n      <td>Left wheel</td>\n      <td>Silver</td>\n      <td>12</td>\n    </tr>\n    <tr>\n      <th>1</th>\n      <td>44731507</td>\n      <td>16621</td>\n      <td>1018</td>\n      <td>CHEVROLET</td>\n      <td>Equinox</td>\n      <td>2011</td>\n      <td>Jeep</td>\n      <td>No</td>\n      <td>Petrol</td>\n      <td>3</td>\n      <td>192000</td>\n      <td>6.0</td>\n      <td>Tiptronic</td>\n      <td>4x4</td>\n      <td>04-May</td>\n      <td>Left wheel</td>\n      <td>Black</td>\n      <td>8</td>\n    </tr>\n    <tr>\n      <th>2</th>\n      <td>45774419</td>\n      <td>8467</td>\n      <td>-</td>\n      <td>HONDA</td>\n      <td>FIT</td>\n      <td>2006</td>\n      <td>Hatchback</td>\n      <td>No</td>\n      <td>Petrol</td>\n      <td>1.3</td>\n      <td>200000</td>\n      <td>4.0</td>\n      <td>Variator</td>\n      <td>Front</td>\n      <td>04-May</td>\n      <td>Right-hand drive</td>\n      <td>Black</td>\n      <td>2</td>\n    </tr>\n    <tr>\n      <th>3</th>\n      <td>45769185</td>\n      <td>3607</td>\n      <td>862</td>\n      <td>FORD</td>\n      <td>Escape</td>\n      <td>2011</td>\n      <td>Jeep</td>\n      <td>Yes</td>\n      <td>Hybrid</td>\n      <td>2.5</td>\n      <td>168966</td>\n      <td>4.0</td>\n      <td>Automatic</td>\n      <td>4x4</td>\n      <td>04-May</td>\n      <td>Left wheel</td>\n      <td>White</td>\n      <td>0</td>\n    </tr>\n    <tr>\n      <th>4</th>\n      <td>45809263</td>\n      <td>11726</td>\n      <td>446</td>\n      <td>HONDA</td>\n      <td>FIT</td>\n      <td>2014</td>\n      <td>Hatchback</td>\n      <td>Yes</td>\n      <td>Petrol</td>\n      <td>1.3</td>\n      <td>91901</td>\n      <td>4.0</td>\n      <td>Automatic</td>\n      <td>Front</td>\n      <td>04-May</td>\n      <td>Left wheel</td>\n      <td>Silver</td>\n      <td>4</td>\n    </tr>\n  </tbody>\n</table>\n</div>"
     },
     "execution_count": 65,
     "metadata": {},
     "output_type": "execute_result"
    }
   ],
   "source": [
    "# remove km from mileage\n",
    "\n",
    "df[\"Mileage\"] = df[\"Mileage\"].str.replace(' km', '')  # Replace spaces with underscores\n",
    "\n",
    "df.head(5)"
   ]
  },
  {
   "cell_type": "markdown",
   "id": "6cb9ac1c",
   "metadata": {},
   "source": [
    "## 4. Handle incorrect format of Levy"
   ]
  },
  {
   "cell_type": "code",
   "execution_count": 66,
   "id": "f1bc171d",
   "metadata": {
    "scrolled": false,
    "ExecuteTime": {
     "end_time": "2023-12-05T00:59:49.269783200Z",
     "start_time": "2023-12-05T00:59:49.094771800Z"
    }
   },
   "outputs": [],
   "source": [
    "# Replace '-' and '' with '0'\n",
    "df[\"Levy\"] = df[\"Levy\"].str.replace(\"-\", '')\n",
    "df[\"Levy\"] = df[\"Levy\"].str.replace(\"\", '0')\n"
   ]
  },
  {
   "cell_type": "markdown",
   "id": "01f3bcc7",
   "metadata": {},
   "source": [
    "## 5. Feature Engineering"
   ]
  },
  {
   "cell_type": "code",
   "execution_count": 67,
   "id": "362f64e7",
   "metadata": {
    "ExecuteTime": {
     "end_time": "2023-12-05T00:59:49.269783200Z",
     "start_time": "2023-12-05T00:59:49.106593700Z"
    }
   },
   "outputs": [
    {
     "data": {
      "text/plain": "         ID  Price       Levy Manufacturer    Model  Prod_year   Category  \\\n0  45654403  13328  010309090        LEXUS   RX 450       2010       Jeep   \n1  44731507  16621  010001080    CHEVROLET  Equinox       2011       Jeep   \n2  45774419   8467          0        HONDA      FIT       2006  Hatchback   \n3  45769185   3607    0806020         FORD   Escape       2011       Jeep   \n4  45809263  11726    0404060        HONDA      FIT       2014  Hatchback   \n\n  Leather_interior Fuel_type Engine_volume Mileage  Cylinders Gear_box_type  \\\n0              Yes    Hybrid           3.5  186005        6.0     Automatic   \n1               No    Petrol             3  192000        6.0     Tiptronic   \n2               No    Petrol           1.3  200000        4.0      Variator   \n3              Yes    Hybrid           2.5  168966        4.0     Automatic   \n4              Yes    Petrol           1.3   91901        4.0     Automatic   \n\n  Drive_wheels   Doors             Wheel   Color  Airbags  With_Turbo  \n0          4x4  04-May        Left wheel  Silver       12           0  \n1          4x4  04-May        Left wheel   Black        8           0  \n2        Front  04-May  Right-hand drive   Black        2           0  \n3          4x4  04-May        Left wheel   White        0           0  \n4        Front  04-May        Left wheel  Silver        4           0  ",
      "text/html": "<div>\n<style scoped>\n    .dataframe tbody tr th:only-of-type {\n        vertical-align: middle;\n    }\n\n    .dataframe tbody tr th {\n        vertical-align: top;\n    }\n\n    .dataframe thead th {\n        text-align: right;\n    }\n</style>\n<table border=\"1\" class=\"dataframe\">\n  <thead>\n    <tr style=\"text-align: right;\">\n      <th></th>\n      <th>ID</th>\n      <th>Price</th>\n      <th>Levy</th>\n      <th>Manufacturer</th>\n      <th>Model</th>\n      <th>Prod_year</th>\n      <th>Category</th>\n      <th>Leather_interior</th>\n      <th>Fuel_type</th>\n      <th>Engine_volume</th>\n      <th>Mileage</th>\n      <th>Cylinders</th>\n      <th>Gear_box_type</th>\n      <th>Drive_wheels</th>\n      <th>Doors</th>\n      <th>Wheel</th>\n      <th>Color</th>\n      <th>Airbags</th>\n      <th>With_Turbo</th>\n    </tr>\n  </thead>\n  <tbody>\n    <tr>\n      <th>0</th>\n      <td>45654403</td>\n      <td>13328</td>\n      <td>010309090</td>\n      <td>LEXUS</td>\n      <td>RX 450</td>\n      <td>2010</td>\n      <td>Jeep</td>\n      <td>Yes</td>\n      <td>Hybrid</td>\n      <td>3.5</td>\n      <td>186005</td>\n      <td>6.0</td>\n      <td>Automatic</td>\n      <td>4x4</td>\n      <td>04-May</td>\n      <td>Left wheel</td>\n      <td>Silver</td>\n      <td>12</td>\n      <td>0</td>\n    </tr>\n    <tr>\n      <th>1</th>\n      <td>44731507</td>\n      <td>16621</td>\n      <td>010001080</td>\n      <td>CHEVROLET</td>\n      <td>Equinox</td>\n      <td>2011</td>\n      <td>Jeep</td>\n      <td>No</td>\n      <td>Petrol</td>\n      <td>3</td>\n      <td>192000</td>\n      <td>6.0</td>\n      <td>Tiptronic</td>\n      <td>4x4</td>\n      <td>04-May</td>\n      <td>Left wheel</td>\n      <td>Black</td>\n      <td>8</td>\n      <td>0</td>\n    </tr>\n    <tr>\n      <th>2</th>\n      <td>45774419</td>\n      <td>8467</td>\n      <td>0</td>\n      <td>HONDA</td>\n      <td>FIT</td>\n      <td>2006</td>\n      <td>Hatchback</td>\n      <td>No</td>\n      <td>Petrol</td>\n      <td>1.3</td>\n      <td>200000</td>\n      <td>4.0</td>\n      <td>Variator</td>\n      <td>Front</td>\n      <td>04-May</td>\n      <td>Right-hand drive</td>\n      <td>Black</td>\n      <td>2</td>\n      <td>0</td>\n    </tr>\n    <tr>\n      <th>3</th>\n      <td>45769185</td>\n      <td>3607</td>\n      <td>0806020</td>\n      <td>FORD</td>\n      <td>Escape</td>\n      <td>2011</td>\n      <td>Jeep</td>\n      <td>Yes</td>\n      <td>Hybrid</td>\n      <td>2.5</td>\n      <td>168966</td>\n      <td>4.0</td>\n      <td>Automatic</td>\n      <td>4x4</td>\n      <td>04-May</td>\n      <td>Left wheel</td>\n      <td>White</td>\n      <td>0</td>\n      <td>0</td>\n    </tr>\n    <tr>\n      <th>4</th>\n      <td>45809263</td>\n      <td>11726</td>\n      <td>0404060</td>\n      <td>HONDA</td>\n      <td>FIT</td>\n      <td>2014</td>\n      <td>Hatchback</td>\n      <td>Yes</td>\n      <td>Petrol</td>\n      <td>1.3</td>\n      <td>91901</td>\n      <td>4.0</td>\n      <td>Automatic</td>\n      <td>Front</td>\n      <td>04-May</td>\n      <td>Left wheel</td>\n      <td>Silver</td>\n      <td>4</td>\n      <td>0</td>\n    </tr>\n  </tbody>\n</table>\n</div>"
     },
     "execution_count": 67,
     "metadata": {},
     "output_type": "execute_result"
    }
   ],
   "source": [
    "# Create new enriched column 'With_Turbo' and remove 'Turbo' from eng\n",
    "df['With_Turbo'] = df['Engine_volume'].str.contains(' Turbo', case=False).astype(int)\n",
    "df[\"Engine_volume\"] = df[\"Engine_volume\"].str.replace(' Turbo', '')\n",
    "df.head()"
   ]
  },
  {
   "cell_type": "markdown",
   "id": "ba29bdeb",
   "metadata": {},
   "source": [
    "## 6. Handling Null Values"
   ]
  },
  {
   "cell_type": "code",
   "execution_count": 68,
   "id": "b49e8203",
   "metadata": {
    "ExecuteTime": {
     "end_time": "2023-12-05T00:59:49.295797300Z",
     "start_time": "2023-12-05T00:59:49.126028300Z"
    }
   },
   "outputs": [
    {
     "data": {
      "text/plain": "ID                  0\nPrice               0\nLevy                0\nManufacturer        0\nModel               0\nProd_year           0\nCategory            0\nLeather_interior    0\nFuel_type           0\nEngine_volume       0\nMileage             0\nCylinders           0\nGear_box_type       0\nDrive_wheels        0\nDoors               0\nWheel               0\nColor               0\nAirbags             0\nWith_Turbo          0\ndtype: int64"
     },
     "execution_count": 68,
     "metadata": {},
     "output_type": "execute_result"
    }
   ],
   "source": [
    "# Check for any missing values\n",
    "df.isnull().sum()\n",
    "# Since there are no missing values we don't have to worry about filling \n",
    "# missing values"
   ]
  },
  {
   "cell_type": "markdown",
   "id": "cd4c2a52",
   "metadata": {},
   "source": [
    "## 7. Datatype conversion"
   ]
  },
  {
   "cell_type": "code",
   "execution_count": 69,
   "id": "93583cfe",
   "metadata": {
    "ExecuteTime": {
     "end_time": "2023-12-05T00:59:49.295797300Z",
     "start_time": "2023-12-05T00:59:49.141504500Z"
    }
   },
   "outputs": [],
   "source": [
    "# Converting datatypes of attributes \n",
    "df['Manufacturer'] = df['Manufacturer'].astype('category')\n",
    "df['Category'] = df['Category'].astype('category')\n",
    "df['Leather_interior'] = df['Leather_interior'].astype('category')\n",
    "df['Fuel_type'] = df['Fuel_type'].astype('category')\n",
    "df['Gear_box_type'] = df['Gear_box_type'].astype('category')\n",
    "df['Drive_wheels'] = df['Drive_wheels'].astype('category')\n",
    "df['Doors'] = df['Doors'].astype('category')\n",
    "df['Wheel'] = df['Wheel'].astype('category')\n",
    "df['Color'] = df['Color'].astype('category')\n",
    "df['Model'] = df['Model'].astype('category')\n",
    "df[\"Mileage\"] = df[\"Mileage\"].astype(str).astype(int)\n",
    "df[\"Levy\"] = df[\"Levy\"].astype(str).astype(float)\n",
    "df[\"Engine_volume\"] = df[\"Engine_volume\"].astype(str).astype(float)"
   ]
  },
  {
   "cell_type": "code",
   "execution_count": 70,
   "id": "16b43f40",
   "metadata": {
    "ExecuteTime": {
     "end_time": "2023-12-05T00:59:49.296795200Z",
     "start_time": "2023-12-05T00:59:49.162619900Z"
    }
   },
   "outputs": [
    {
     "name": "stdout",
     "output_type": "stream",
     "text": [
      "<class 'pandas.core.frame.DataFrame'>\n",
      "Index: 18924 entries, 0 to 19236\n",
      "Data columns (total 19 columns):\n",
      " #   Column            Non-Null Count  Dtype   \n",
      "---  ------            --------------  -----   \n",
      " 0   ID                18924 non-null  int64   \n",
      " 1   Price             18924 non-null  int64   \n",
      " 2   Levy              18924 non-null  float64 \n",
      " 3   Manufacturer      18924 non-null  category\n",
      " 4   Model             18924 non-null  category\n",
      " 5   Prod_year         18924 non-null  int64   \n",
      " 6   Category          18924 non-null  category\n",
      " 7   Leather_interior  18924 non-null  category\n",
      " 8   Fuel_type         18924 non-null  category\n",
      " 9   Engine_volume     18924 non-null  float64 \n",
      " 10  Mileage           18924 non-null  int32   \n",
      " 11  Cylinders         18924 non-null  float64 \n",
      " 12  Gear_box_type     18924 non-null  category\n",
      " 13  Drive_wheels      18924 non-null  category\n",
      " 14  Doors             18924 non-null  category\n",
      " 15  Wheel             18924 non-null  category\n",
      " 16  Color             18924 non-null  category\n",
      " 17  Airbags           18924 non-null  int64   \n",
      " 18  With_Turbo        18924 non-null  int32   \n",
      "dtypes: category(10), float64(3), int32(2), int64(4)\n",
      "memory usage: 1.6 MB\n"
     ]
    }
   ],
   "source": [
    "# To render the change in datatype conversion\n",
    "df.info()"
   ]
  },
  {
   "cell_type": "markdown",
   "id": "e7fd2590",
   "metadata": {},
   "source": [
    "## 8. Drop irrelevant columns"
   ]
  },
  {
   "cell_type": "code",
   "execution_count": 71,
   "id": "e5d17a85",
   "metadata": {
    "scrolled": true,
    "ExecuteTime": {
     "end_time": "2023-12-05T00:59:49.296795200Z",
     "start_time": "2023-12-05T00:59:49.173323600Z"
    }
   },
   "outputs": [
    {
     "data": {
      "text/plain": "   Price        Levy Manufacturer    Model  Prod_year   Category  \\\n0  13328  10309090.0        LEXUS   RX 450       2010       Jeep   \n1  16621  10001080.0    CHEVROLET  Equinox       2011       Jeep   \n2   8467         0.0        HONDA      FIT       2006  Hatchback   \n3   3607    806020.0         FORD   Escape       2011       Jeep   \n4  11726    404060.0        HONDA      FIT       2014  Hatchback   \n\n  Leather_interior Fuel_type  Engine_volume  Mileage  Cylinders Gear_box_type  \\\n0              Yes    Hybrid            3.5   186005        6.0     Automatic   \n1               No    Petrol            3.0   192000        6.0     Tiptronic   \n2               No    Petrol            1.3   200000        4.0      Variator   \n3              Yes    Hybrid            2.5   168966        4.0     Automatic   \n4              Yes    Petrol            1.3    91901        4.0     Automatic   \n\n  Drive_wheels   Doors             Wheel   Color  Airbags  With_Turbo  \n0          4x4  04-May        Left wheel  Silver       12           0  \n1          4x4  04-May        Left wheel   Black        8           0  \n2        Front  04-May  Right-hand drive   Black        2           0  \n3          4x4  04-May        Left wheel   White        0           0  \n4        Front  04-May        Left wheel  Silver        4           0  ",
      "text/html": "<div>\n<style scoped>\n    .dataframe tbody tr th:only-of-type {\n        vertical-align: middle;\n    }\n\n    .dataframe tbody tr th {\n        vertical-align: top;\n    }\n\n    .dataframe thead th {\n        text-align: right;\n    }\n</style>\n<table border=\"1\" class=\"dataframe\">\n  <thead>\n    <tr style=\"text-align: right;\">\n      <th></th>\n      <th>Price</th>\n      <th>Levy</th>\n      <th>Manufacturer</th>\n      <th>Model</th>\n      <th>Prod_year</th>\n      <th>Category</th>\n      <th>Leather_interior</th>\n      <th>Fuel_type</th>\n      <th>Engine_volume</th>\n      <th>Mileage</th>\n      <th>Cylinders</th>\n      <th>Gear_box_type</th>\n      <th>Drive_wheels</th>\n      <th>Doors</th>\n      <th>Wheel</th>\n      <th>Color</th>\n      <th>Airbags</th>\n      <th>With_Turbo</th>\n    </tr>\n  </thead>\n  <tbody>\n    <tr>\n      <th>0</th>\n      <td>13328</td>\n      <td>10309090.0</td>\n      <td>LEXUS</td>\n      <td>RX 450</td>\n      <td>2010</td>\n      <td>Jeep</td>\n      <td>Yes</td>\n      <td>Hybrid</td>\n      <td>3.5</td>\n      <td>186005</td>\n      <td>6.0</td>\n      <td>Automatic</td>\n      <td>4x4</td>\n      <td>04-May</td>\n      <td>Left wheel</td>\n      <td>Silver</td>\n      <td>12</td>\n      <td>0</td>\n    </tr>\n    <tr>\n      <th>1</th>\n      <td>16621</td>\n      <td>10001080.0</td>\n      <td>CHEVROLET</td>\n      <td>Equinox</td>\n      <td>2011</td>\n      <td>Jeep</td>\n      <td>No</td>\n      <td>Petrol</td>\n      <td>3.0</td>\n      <td>192000</td>\n      <td>6.0</td>\n      <td>Tiptronic</td>\n      <td>4x4</td>\n      <td>04-May</td>\n      <td>Left wheel</td>\n      <td>Black</td>\n      <td>8</td>\n      <td>0</td>\n    </tr>\n    <tr>\n      <th>2</th>\n      <td>8467</td>\n      <td>0.0</td>\n      <td>HONDA</td>\n      <td>FIT</td>\n      <td>2006</td>\n      <td>Hatchback</td>\n      <td>No</td>\n      <td>Petrol</td>\n      <td>1.3</td>\n      <td>200000</td>\n      <td>4.0</td>\n      <td>Variator</td>\n      <td>Front</td>\n      <td>04-May</td>\n      <td>Right-hand drive</td>\n      <td>Black</td>\n      <td>2</td>\n      <td>0</td>\n    </tr>\n    <tr>\n      <th>3</th>\n      <td>3607</td>\n      <td>806020.0</td>\n      <td>FORD</td>\n      <td>Escape</td>\n      <td>2011</td>\n      <td>Jeep</td>\n      <td>Yes</td>\n      <td>Hybrid</td>\n      <td>2.5</td>\n      <td>168966</td>\n      <td>4.0</td>\n      <td>Automatic</td>\n      <td>4x4</td>\n      <td>04-May</td>\n      <td>Left wheel</td>\n      <td>White</td>\n      <td>0</td>\n      <td>0</td>\n    </tr>\n    <tr>\n      <th>4</th>\n      <td>11726</td>\n      <td>404060.0</td>\n      <td>HONDA</td>\n      <td>FIT</td>\n      <td>2014</td>\n      <td>Hatchback</td>\n      <td>Yes</td>\n      <td>Petrol</td>\n      <td>1.3</td>\n      <td>91901</td>\n      <td>4.0</td>\n      <td>Automatic</td>\n      <td>Front</td>\n      <td>04-May</td>\n      <td>Left wheel</td>\n      <td>Silver</td>\n      <td>4</td>\n      <td>0</td>\n    </tr>\n  </tbody>\n</table>\n</div>"
     },
     "execution_count": 71,
     "metadata": {},
     "output_type": "execute_result"
    }
   ],
   "source": [
    "# Drop ID column as it wont contribute in prediction\n",
    "df.drop(columns='ID', inplace=True)\n",
    "df.head(5)"
   ]
  },
  {
   "cell_type": "markdown",
   "id": "cebdcac8",
   "metadata": {},
   "source": [
    "## 10. Encoding"
   ]
  },
  {
   "cell_type": "code",
   "execution_count": 72,
   "id": "1b16436d",
   "metadata": {
    "ExecuteTime": {
     "end_time": "2023-12-05T00:59:52.708233600Z",
     "start_time": "2023-12-05T00:59:52.695276Z"
    }
   },
   "outputs": [
    {
     "data": {
      "text/plain": "  Doors Wheel Drive_wheels Gear_box_type Leather_interior\n0     1     1            2             1                1\n1     1     1            2             2                2\n2     1     2            1             4                2\n3     1     1            2             1                1\n4     1     1            1             1                1",
      "text/html": "<div>\n<style scoped>\n    .dataframe tbody tr th:only-of-type {\n        vertical-align: middle;\n    }\n\n    .dataframe tbody tr th {\n        vertical-align: top;\n    }\n\n    .dataframe thead th {\n        text-align: right;\n    }\n</style>\n<table border=\"1\" class=\"dataframe\">\n  <thead>\n    <tr style=\"text-align: right;\">\n      <th></th>\n      <th>Doors</th>\n      <th>Wheel</th>\n      <th>Drive_wheels</th>\n      <th>Gear_box_type</th>\n      <th>Leather_interior</th>\n    </tr>\n  </thead>\n  <tbody>\n    <tr>\n      <th>0</th>\n      <td>1</td>\n      <td>1</td>\n      <td>2</td>\n      <td>1</td>\n      <td>1</td>\n    </tr>\n    <tr>\n      <th>1</th>\n      <td>1</td>\n      <td>1</td>\n      <td>2</td>\n      <td>2</td>\n      <td>2</td>\n    </tr>\n    <tr>\n      <th>2</th>\n      <td>1</td>\n      <td>2</td>\n      <td>1</td>\n      <td>4</td>\n      <td>2</td>\n    </tr>\n    <tr>\n      <th>3</th>\n      <td>1</td>\n      <td>1</td>\n      <td>2</td>\n      <td>1</td>\n      <td>1</td>\n    </tr>\n    <tr>\n      <th>4</th>\n      <td>1</td>\n      <td>1</td>\n      <td>1</td>\n      <td>1</td>\n      <td>1</td>\n    </tr>\n  </tbody>\n</table>\n</div>"
     },
     "execution_count": 72,
     "metadata": {},
     "output_type": "execute_result"
    }
   ],
   "source": [
    "# Peform endcoding on Doors, Wheel, Drive_wheels, Gear_box_type and\n",
    "# Leather_interior\n",
    "\n",
    "# Replace values in the 'Doors' column\n",
    "# 04-May' is replaced with 1, '02-Mar' is replaced with 2, and '>5'\n",
    "# is replaced with 3\n",
    "df['Doors'].replace(['04-May', '02-Mar',\">5\"],\n",
    "                        [1, 2, 3], inplace=True)\n",
    "\n",
    "# Replace values in the 'Wheel' column\n",
    "# 'Left wheel' is replaced with 1, 'Right-hand drive' is replaced with 2\n",
    "df['Wheel'].replace(['Left wheel', 'Right-hand drive'],\n",
    "                        [1, 2], inplace=True)\n",
    "\n",
    "# Replace values in the 'Drive_wheels' column 'Front' is replaced with 1,\n",
    "# '4x4' is replaced with 2, 'Rear' is replaced with 3\n",
    "df['Drive_wheels'].replace(['Front', '4x4',\"Rear\"],\n",
    "                        [1, 2, 3], inplace=True)\n",
    "\n",
    "# Replace values in the 'Gear_box_type' column 'Automatic' is replaced with\n",
    "# 1, 'Tiptronic' is replaced with 2, 'Manual' is replaced with 3, 'Variator'\n",
    "# is replaced with 4\n",
    "\n",
    "df['Gear_box_type'].replace(['Automatic', 'Tiptronic',\"Manual\",\"Variator\"],\n",
    "                        [1, 2, 3 , 4], inplace=True)\n",
    "\n",
    "\n",
    "# Replace values in the 'Leather_interior' column 'Yes' is replaced with 1,\n",
    "# 'No' is replaced with 2\n",
    "\n",
    "df['Leather_interior'].replace(['Yes', 'No'],\n",
    "                        [1, 2], inplace=True)\n",
    "\n",
    "encoded_cols=['Doors', 'Wheel', 'Drive_wheels', 'Gear_box_type', 'Leather_interior' ]\n",
    "df[encoded_cols].head(5)"
   ]
  },
  {
   "cell_type": "markdown",
   "id": "cf7776d4",
   "metadata": {},
   "source": [
    "## 11. Scaling"
   ]
  },
  {
   "cell_type": "code",
   "execution_count": 74,
   "outputs": [
    {
     "data": {
      "text/plain": "0        10309090.0\n1        10001080.0\n2               0.0\n3          806020.0\n4          404060.0\n            ...    \n19232           0.0\n19233      803010.0\n19234      803060.0\n19235    10208080.0\n19236      705030.0\nName: Levy, Length: 18924, dtype: float64"
     },
     "execution_count": 74,
     "metadata": {},
     "output_type": "execute_result"
    }
   ],
   "source": [
    "df['Levy']"
   ],
   "metadata": {
    "collapsed": false,
    "ExecuteTime": {
     "end_time": "2023-12-05T01:00:01.910009500Z",
     "start_time": "2023-12-05T01:00:01.885747200Z"
    }
   },
   "id": "b9617a26be1b13a3"
  },
  {
   "cell_type": "code",
   "execution_count": 75,
   "outputs": [
    {
     "data": {
      "text/plain": "0        186005\n1        192000\n2        200000\n3        168966\n4         91901\n          ...  \n19232    300000\n19233    161600\n19234    116365\n19235     51258\n19236    186923\nName: Mileage, Length: 18924, dtype: int32"
     },
     "execution_count": 75,
     "metadata": {},
     "output_type": "execute_result"
    }
   ],
   "source": [
    "df['Mileage']"
   ],
   "metadata": {
    "collapsed": false,
    "ExecuteTime": {
     "end_time": "2023-12-05T01:04:01.676373600Z",
     "start_time": "2023-12-05T01:04:01.656794100Z"
    }
   },
   "id": "f147696f699e4f6d"
  },
  {
   "cell_type": "code",
   "execution_count": 76,
   "id": "34fea51d",
   "metadata": {
    "ExecuteTime": {
     "end_time": "2023-12-05T01:17:31.950551700Z",
     "start_time": "2023-12-05T01:17:31.939036900Z"
    }
   },
   "outputs": [
    {
     "data": {
      "text/plain": "['levy_scaler.joblib']"
     },
     "execution_count": 76,
     "metadata": {},
     "output_type": "execute_result"
    }
   ],
   "source": [
    "# Create instance of  MinMaxScaler\n",
    "from joblib import load\n",
    "scale = MinMaxScaler()\n",
    "\n",
    "mileage_scaler = MinMaxScaler()\n",
    "levy_scaler = MinMaxScaler()    \n",
    "\n",
    "# Reshape the 'Levy' and 'Mileage' columns to be compatible with the scaler\n",
    "# X2 = df[\"Levy\"].values.reshape(-1, 1)\n",
    "# X = df[\"Mileage\"].values.reshape(-1, 1)\n",
    "\n",
    "# Use Min-Max scaling to scale the 'Mileage' and 'Levy' columns \n",
    "mileage_scaler.fit(df[['Mileage']])\n",
    "levy_scaler.fit(df[['Levy']])\n",
    "\n",
    "df['Mileage'] = mileage_scaler.transform(df[['Mileage']])\n",
    "df['Levy'] = levy_scaler.transform(df[['Levy']])\n",
    "\n",
    "# # Scaled values for 'Mileage' and 'Levy'\n",
    "# print(scaledX)\n",
    "# print(scaledX2)\n",
    "\n",
    "# # Update the 'Mileage' and 'Levy' columns in the DataFrame with the scaled values\n",
    "# df[\"Mileage\"] = scaledX\n",
    "# df[\"Levy\"] = scaledX2\n",
    "\n",
    "\n",
    "df[['Levy','Mileage']].head(5)\n",
    "\n",
    "dump(mileage_scaler, 'mileage_scaler.joblib')\n",
    "dump(levy_scaler, 'levy_scaler.joblib')"
   ]
  },
  {
   "cell_type": "code",
   "execution_count": null,
   "outputs": [],
   "source": [
    "df[['Levy','Mileage']].head(5)"
   ],
   "metadata": {
    "collapsed": false
   },
   "id": "f63b4bfbdb93f9ce"
  },
  {
   "cell_type": "code",
   "execution_count": null,
   "id": "23130d5b",
   "metadata": {},
   "outputs": [],
   "source": [
    "# print the columns\n",
    "df.columns"
   ]
  },
  {
   "cell_type": "code",
   "execution_count": null,
   "outputs": [],
   "source": [
    "df.head(50).T"
   ],
   "metadata": {
    "collapsed": false
   },
   "id": "2bd1e1d641011ed5"
  },
  {
   "cell_type": "code",
   "execution_count": 77,
   "id": "7572d47a",
   "metadata": {
    "ExecuteTime": {
     "end_time": "2023-12-05T01:27:16.001653100Z",
     "start_time": "2023-12-05T01:27:15.994140800Z"
    }
   },
   "outputs": [],
   "source": [
    "# lets separate num attributes and categorical attributes from data\n",
    "num_attribs = ['Levy','Prod_year', 'Engine_volume','Doors', 'Mileage', 'Cylinders', 'Airbags']\n",
    "cat_attribs = ['Manufacturer','Category', 'Leather_interior', 'Fuel_type', 'Gear_box_type', 'Drive_wheels', 'Wheel', 'Color', 'With_Turbo']"
   ]
  },
  {
   "cell_type": "code",
   "execution_count": 78,
   "id": "bb1ed241",
   "metadata": {
    "ExecuteTime": {
     "end_time": "2023-12-05T01:27:17.605011800Z",
     "start_time": "2023-12-05T01:27:17.601639700Z"
    }
   },
   "outputs": [],
   "source": [
    "# Create separate df for all\n",
    "num_cars = df[num_attribs]\n",
    "y = df['Price']\n",
    "cat_cars = df[cat_attribs]"
   ]
  },
  {
   "cell_type": "code",
   "execution_count": 79,
   "id": "fddab74e",
   "metadata": {
    "ExecuteTime": {
     "end_time": "2023-12-05T01:27:19.267841200Z",
     "start_time": "2023-12-05T01:27:19.259570400Z"
    }
   },
   "outputs": [],
   "source": [
    "from sklearn.preprocessing import StandardScaler, OneHotEncoder\n",
    "\n",
    "# Initialize standar scaler object\n",
    "scaler = StandardScaler()\n",
    "\n",
    "# perform scalarization on numerical attributes\n",
    "num_cars = scaler.fit_transform(num_cars)"
   ]
  },
  {
   "cell_type": "code",
   "execution_count": 80,
   "id": "ac1b70f6",
   "metadata": {
    "ExecuteTime": {
     "end_time": "2023-12-05T01:27:20.766642500Z",
     "start_time": "2023-12-05T01:27:20.764126Z"
    }
   },
   "outputs": [],
   "source": [
    "from sklearn.pipeline import Pipeline\n",
    "\n",
    "# created pipeline for scalarization\n",
    "num_pipeline = Pipeline([\n",
    "    ('std_scaler', StandardScaler())])"
   ]
  },
  {
   "cell_type": "code",
   "execution_count": 92,
   "id": "1490527e",
   "metadata": {
    "ExecuteTime": {
     "end_time": "2023-12-05T01:51:02.150379100Z",
     "start_time": "2023-12-05T01:51:02.116714700Z"
    }
   },
   "outputs": [
    {
     "data": {
      "text/plain": "['full_pipeline.joblib']"
     },
     "execution_count": 92,
     "metadata": {},
     "output_type": "execute_result"
    }
   ],
   "source": [
    "from sklearn.compose import ColumnTransformer\n",
    "\n",
    "# created pipeline for one hot encoding to transform variables\n",
    "full_pipeline = ColumnTransformer([\n",
    "    ('num',num_pipeline, num_attribs),\n",
    "    ('cat',OneHotEncoder(), cat_attribs)  \n",
    "])\n",
    "\n",
    "cars_prepared = full_pipeline.fit_transform(df)\n",
    "dump(full_pipeline, 'full_pipeline.joblib')"
   ]
  },
  {
   "cell_type": "code",
   "execution_count": 95,
   "outputs": [
    {
     "data": {
      "text/plain": "(18924, 119)"
     },
     "execution_count": 95,
     "metadata": {},
     "output_type": "execute_result"
    }
   ],
   "source": [
    "cars_prepared.shape"
   ],
   "metadata": {
    "collapsed": false,
    "ExecuteTime": {
     "end_time": "2023-12-05T02:42:04.728676800Z",
     "start_time": "2023-12-05T02:42:04.719278200Z"
    }
   },
   "id": "71ab2dcdde0d5920"
  },
  {
   "cell_type": "code",
   "execution_count": 84,
   "id": "c3024792",
   "metadata": {
    "ExecuteTime": {
     "end_time": "2023-12-05T01:28:02.952461200Z",
     "start_time": "2023-12-05T01:28:02.942905600Z"
    }
   },
   "outputs": [],
   "source": [
    "# perform train test split\n",
    "X_train, X_test, y_train, y_test = train_test_split(cars_prepared, y, test_size=0.20, random_state = 10)"
   ]
  },
  {
   "cell_type": "code",
   "execution_count": 91,
   "outputs": [
    {
     "name": "stdout",
     "output_type": "stream",
     "text": [
      "                                                   0  \\\n",
      "0    (0, 0)\\t-0.21447004280965076\\n  (0, 1)\\t-2.2...   \n",
      "\n",
      "                                                   1  \\\n",
      "0    (0, 0)\\t-0.21447004280965076\\n  (0, 1)\\t-0.8...   \n",
      "\n",
      "                                                   2  \\\n",
      "0    (0, 0)\\t-0.19175335958773612\\n  (0, 1)\\t0.54...   \n",
      "\n",
      "                                                   3  \\\n",
      "0    (0, 0)\\t-0.14801552118517627\\n  (0, 1)\\t0.36...   \n",
      "\n",
      "                                                   4  \\\n",
      "0    (0, 0)\\t-0.16240132804598617\\n  (0, 1)\\t-0.1...   \n",
      "\n",
      "                                                   5  \\\n",
      "0    (0, 0)\\t-0.1628394070614338\\n  (0, 1)\\t0.015...   \n",
      "\n",
      "                                                   6  \\\n",
      "0    (0, 0)\\t-0.21447004280965076\\n  (0, 1)\\t-1.9...   \n",
      "\n",
      "                                                   7  \\\n",
      "0    (0, 0)\\t-0.1770010118671998\\n  (0, 1)\\t0.368...   \n",
      "\n",
      "                                                   8  \\\n",
      "0    (0, 0)\\t0.5235581344824909\\n  (0, 1)\\t1.4271...   \n",
      "\n",
      "                                                   9  \n",
      "0    (0, 0)\\t-0.16955588112487047\\n  (0, 1)\\t0.89...  \n"
     ]
    }
   ],
   "source": [
    "X_test\n",
    "df_test = pd.DataFrame(X_test)\n",
    "print(df_test.head(10).T)"
   ],
   "metadata": {
    "collapsed": false,
    "ExecuteTime": {
     "end_time": "2023-12-05T01:45:00.612371600Z",
     "start_time": "2023-12-05T01:45:00.517650900Z"
    }
   },
   "id": "e2d592501306788c"
  }
 ],
 "metadata": {
  "kernelspec": {
   "display_name": "Python 3 (ipykernel)",
   "language": "python",
   "name": "python3"
  },
  "language_info": {
   "codemirror_mode": {
    "name": "ipython",
    "version": 3
   },
   "file_extension": ".py",
   "mimetype": "text/x-python",
   "name": "python",
   "nbconvert_exporter": "python",
   "pygments_lexer": "ipython3",
   "version": "3.9.13"
  }
 },
 "nbformat": 4,
 "nbformat_minor": 5
}
